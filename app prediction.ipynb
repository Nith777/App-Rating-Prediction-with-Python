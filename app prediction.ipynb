{
 "cells": [
  {
   "cell_type": "code",
   "execution_count": 1,
   "id": "efb8d3b7",
   "metadata": {},
   "outputs": [],
   "source": [
    "import pandas as pd\n",
    "import numpy as np\n",
    "import seaborn as sns\n",
    "import matplotlib as plt"
   ]
  },
  {
   "cell_type": "markdown",
   "id": "eacdd956",
   "metadata": {},
   "source": [
    "#  1) Load the data file using pandas. "
   ]
  },
  {
   "cell_type": "code",
   "execution_count": 2,
   "id": "1b0f5e23",
   "metadata": {},
   "outputs": [],
   "source": [
    "dataapp=pd.read_csv(\"googleplaystore.csv\")"
   ]
  },
  {
   "cell_type": "code",
   "execution_count": 3,
   "id": "d3e10d93",
   "metadata": {},
   "outputs": [
    {
     "name": "stdout",
     "output_type": "stream",
     "text": [
      "<class 'pandas.core.frame.DataFrame'>\n",
      "RangeIndex: 10841 entries, 0 to 10840\n",
      "Data columns (total 13 columns):\n",
      " #   Column          Non-Null Count  Dtype  \n",
      "---  ------          --------------  -----  \n",
      " 0   App             10841 non-null  object \n",
      " 1   Category        10841 non-null  object \n",
      " 2   Rating          9367 non-null   float64\n",
      " 3   Reviews         10841 non-null  object \n",
      " 4   Size            10841 non-null  object \n",
      " 5   Installs        10841 non-null  object \n",
      " 6   Type            10840 non-null  object \n",
      " 7   Price           10841 non-null  object \n",
      " 8   Content Rating  10840 non-null  object \n",
      " 9   Genres          10841 non-null  object \n",
      " 10  Last Updated    10841 non-null  object \n",
      " 11  Current Ver     10833 non-null  object \n",
      " 12  Android Ver     10838 non-null  object \n",
      "dtypes: float64(1), object(12)\n",
      "memory usage: 1.1+ MB\n"
     ]
    }
   ],
   "source": [
    "dataapp.info()"
   ]
  },
  {
   "cell_type": "markdown",
   "id": "01be2d11",
   "metadata": {},
   "source": [
    "# 2) Check for null values in the data. Get the number of null values for each column."
   ]
  },
  {
   "cell_type": "code",
   "execution_count": 4,
   "id": "175f8785",
   "metadata": {},
   "outputs": [
    {
     "data": {
      "text/plain": [
       "App                  0\n",
       "Category             0\n",
       "Rating            1474\n",
       "Reviews              0\n",
       "Size                 0\n",
       "Installs             0\n",
       "Type                 1\n",
       "Price                0\n",
       "Content Rating       1\n",
       "Genres               0\n",
       "Last Updated         0\n",
       "Current Ver          8\n",
       "Android Ver          3\n",
       "dtype: int64"
      ]
     },
     "execution_count": 4,
     "metadata": {},
     "output_type": "execute_result"
    }
   ],
   "source": [
    "dataapp.isnull().sum()"
   ]
  },
  {
   "cell_type": "markdown",
   "id": "417e3900",
   "metadata": {},
   "source": [
    "# 3)Drop records with nulls in any of the columns"
   ]
  },
  {
   "cell_type": "code",
   "execution_count": 5,
   "id": "aa9c9f78",
   "metadata": {},
   "outputs": [],
   "source": [
    "dataapp.dropna(inplace=True)"
   ]
  },
  {
   "cell_type": "code",
   "execution_count": 6,
   "id": "e60afb86",
   "metadata": {},
   "outputs": [
    {
     "name": "stdout",
     "output_type": "stream",
     "text": [
      "<class 'pandas.core.frame.DataFrame'>\n",
      "Int64Index: 9360 entries, 0 to 10840\n",
      "Data columns (total 13 columns):\n",
      " #   Column          Non-Null Count  Dtype  \n",
      "---  ------          --------------  -----  \n",
      " 0   App             9360 non-null   object \n",
      " 1   Category        9360 non-null   object \n",
      " 2   Rating          9360 non-null   float64\n",
      " 3   Reviews         9360 non-null   object \n",
      " 4   Size            9360 non-null   object \n",
      " 5   Installs        9360 non-null   object \n",
      " 6   Type            9360 non-null   object \n",
      " 7   Price           9360 non-null   object \n",
      " 8   Content Rating  9360 non-null   object \n",
      " 9   Genres          9360 non-null   object \n",
      " 10  Last Updated    9360 non-null   object \n",
      " 11  Current Ver     9360 non-null   object \n",
      " 12  Android Ver     9360 non-null   object \n",
      "dtypes: float64(1), object(12)\n",
      "memory usage: 1023.8+ KB\n"
     ]
    }
   ],
   "source": [
    "dataapp.info()"
   ]
  },
  {
   "cell_type": "code",
   "execution_count": 7,
   "id": "9546835d",
   "metadata": {},
   "outputs": [
    {
     "data": {
      "text/plain": [
       "App               0\n",
       "Category          0\n",
       "Rating            0\n",
       "Reviews           0\n",
       "Size              0\n",
       "Installs          0\n",
       "Type              0\n",
       "Price             0\n",
       "Content Rating    0\n",
       "Genres            0\n",
       "Last Updated      0\n",
       "Current Ver       0\n",
       "Android Ver       0\n",
       "dtype: int64"
      ]
     },
     "execution_count": 7,
     "metadata": {},
     "output_type": "execute_result"
    }
   ],
   "source": [
    "dataapp.isnull().sum()"
   ]
  },
  {
   "cell_type": "markdown",
   "id": "2fe2a84c",
   "metadata": {},
   "source": [
    "# 4) Variables seem to have incorrect type and inconsistent formatting. You need to fix them: \n",
    "\n",
    "Size column has sizes in Kb as well as Mb. To analyze, you’ll need to convert these to numeric.\n",
    "\n",
    "Extract the numeric value from the column\n",
    "\n",
    "Multiply the value by 1,000, if size is mentioned in Mb\n",
    "\n",
    "Reviews is a numeric field that is loaded as a string field. Convert it to numeric (int/float).\n",
    "\n",
    "Installs field is currently stored as string and has values like 1,000,000+. \n",
    "\n",
    "Treat 1,000,000+ as 1,000,000\n",
    "\n",
    "remove ‘+’, ‘,’ from the field, convert it to integer\n",
    "\n",
    "Price field is a string and has $ symbol. Remove ‘$’ sign, and convert it to numeric."
   ]
  },
  {
   "cell_type": "code",
   "execution_count": 8,
   "id": "14c01f85",
   "metadata": {},
   "outputs": [
    {
     "data": {
      "text/plain": [
       "App                object\n",
       "Category           object\n",
       "Rating            float64\n",
       "Reviews            object\n",
       "Size               object\n",
       "Installs           object\n",
       "Type               object\n",
       "Price              object\n",
       "Content Rating     object\n",
       "Genres             object\n",
       "Last Updated       object\n",
       "Current Ver        object\n",
       "Android Ver        object\n",
       "dtype: object"
      ]
     },
     "execution_count": 8,
     "metadata": {},
     "output_type": "execute_result"
    }
   ],
   "source": [
    "dataapp.dtypes"
   ]
  },
  {
   "cell_type": "code",
   "execution_count": 9,
   "id": "5b3da86a",
   "metadata": {},
   "outputs": [
    {
     "data": {
      "text/html": [
       "<div>\n",
       "<style scoped>\n",
       "    .dataframe tbody tr th:only-of-type {\n",
       "        vertical-align: middle;\n",
       "    }\n",
       "\n",
       "    .dataframe tbody tr th {\n",
       "        vertical-align: top;\n",
       "    }\n",
       "\n",
       "    .dataframe thead th {\n",
       "        text-align: right;\n",
       "    }\n",
       "</style>\n",
       "<table border=\"1\" class=\"dataframe\">\n",
       "  <thead>\n",
       "    <tr style=\"text-align: right;\">\n",
       "      <th></th>\n",
       "      <th>App</th>\n",
       "      <th>Category</th>\n",
       "      <th>Rating</th>\n",
       "      <th>Reviews</th>\n",
       "      <th>Size</th>\n",
       "      <th>Installs</th>\n",
       "      <th>Type</th>\n",
       "      <th>Price</th>\n",
       "      <th>Content Rating</th>\n",
       "      <th>Genres</th>\n",
       "      <th>Last Updated</th>\n",
       "      <th>Current Ver</th>\n",
       "      <th>Android Ver</th>\n",
       "    </tr>\n",
       "  </thead>\n",
       "  <tbody>\n",
       "    <tr>\n",
       "      <th>0</th>\n",
       "      <td>Photo Editor &amp; Candy Camera &amp; Grid &amp; ScrapBook</td>\n",
       "      <td>ART_AND_DESIGN</td>\n",
       "      <td>4.1</td>\n",
       "      <td>159</td>\n",
       "      <td>19M</td>\n",
       "      <td>10,000+</td>\n",
       "      <td>Free</td>\n",
       "      <td>0</td>\n",
       "      <td>Everyone</td>\n",
       "      <td>Art &amp; Design</td>\n",
       "      <td>January 7, 2018</td>\n",
       "      <td>1.0.0</td>\n",
       "      <td>4.0.3 and up</td>\n",
       "    </tr>\n",
       "    <tr>\n",
       "      <th>1</th>\n",
       "      <td>Coloring book moana</td>\n",
       "      <td>ART_AND_DESIGN</td>\n",
       "      <td>3.9</td>\n",
       "      <td>967</td>\n",
       "      <td>14M</td>\n",
       "      <td>500,000+</td>\n",
       "      <td>Free</td>\n",
       "      <td>0</td>\n",
       "      <td>Everyone</td>\n",
       "      <td>Art &amp; Design;Pretend Play</td>\n",
       "      <td>January 15, 2018</td>\n",
       "      <td>2.0.0</td>\n",
       "      <td>4.0.3 and up</td>\n",
       "    </tr>\n",
       "    <tr>\n",
       "      <th>2</th>\n",
       "      <td>U Launcher Lite – FREE Live Cool Themes, Hide ...</td>\n",
       "      <td>ART_AND_DESIGN</td>\n",
       "      <td>4.7</td>\n",
       "      <td>87510</td>\n",
       "      <td>8.7M</td>\n",
       "      <td>5,000,000+</td>\n",
       "      <td>Free</td>\n",
       "      <td>0</td>\n",
       "      <td>Everyone</td>\n",
       "      <td>Art &amp; Design</td>\n",
       "      <td>August 1, 2018</td>\n",
       "      <td>1.2.4</td>\n",
       "      <td>4.0.3 and up</td>\n",
       "    </tr>\n",
       "    <tr>\n",
       "      <th>3</th>\n",
       "      <td>Sketch - Draw &amp; Paint</td>\n",
       "      <td>ART_AND_DESIGN</td>\n",
       "      <td>4.5</td>\n",
       "      <td>215644</td>\n",
       "      <td>25M</td>\n",
       "      <td>50,000,000+</td>\n",
       "      <td>Free</td>\n",
       "      <td>0</td>\n",
       "      <td>Teen</td>\n",
       "      <td>Art &amp; Design</td>\n",
       "      <td>June 8, 2018</td>\n",
       "      <td>Varies with device</td>\n",
       "      <td>4.2 and up</td>\n",
       "    </tr>\n",
       "    <tr>\n",
       "      <th>4</th>\n",
       "      <td>Pixel Draw - Number Art Coloring Book</td>\n",
       "      <td>ART_AND_DESIGN</td>\n",
       "      <td>4.3</td>\n",
       "      <td>967</td>\n",
       "      <td>2.8M</td>\n",
       "      <td>100,000+</td>\n",
       "      <td>Free</td>\n",
       "      <td>0</td>\n",
       "      <td>Everyone</td>\n",
       "      <td>Art &amp; Design;Creativity</td>\n",
       "      <td>June 20, 2018</td>\n",
       "      <td>1.1</td>\n",
       "      <td>4.4 and up</td>\n",
       "    </tr>\n",
       "  </tbody>\n",
       "</table>\n",
       "</div>"
      ],
      "text/plain": [
       "                                                 App        Category  Rating  \\\n",
       "0     Photo Editor & Candy Camera & Grid & ScrapBook  ART_AND_DESIGN     4.1   \n",
       "1                                Coloring book moana  ART_AND_DESIGN     3.9   \n",
       "2  U Launcher Lite – FREE Live Cool Themes, Hide ...  ART_AND_DESIGN     4.7   \n",
       "3                              Sketch - Draw & Paint  ART_AND_DESIGN     4.5   \n",
       "4              Pixel Draw - Number Art Coloring Book  ART_AND_DESIGN     4.3   \n",
       "\n",
       "  Reviews  Size     Installs  Type Price Content Rating  \\\n",
       "0     159   19M      10,000+  Free     0       Everyone   \n",
       "1     967   14M     500,000+  Free     0       Everyone   \n",
       "2   87510  8.7M   5,000,000+  Free     0       Everyone   \n",
       "3  215644   25M  50,000,000+  Free     0           Teen   \n",
       "4     967  2.8M     100,000+  Free     0       Everyone   \n",
       "\n",
       "                      Genres      Last Updated         Current Ver  \\\n",
       "0               Art & Design   January 7, 2018               1.0.0   \n",
       "1  Art & Design;Pretend Play  January 15, 2018               2.0.0   \n",
       "2               Art & Design    August 1, 2018               1.2.4   \n",
       "3               Art & Design      June 8, 2018  Varies with device   \n",
       "4    Art & Design;Creativity     June 20, 2018                 1.1   \n",
       "\n",
       "    Android Ver  \n",
       "0  4.0.3 and up  \n",
       "1  4.0.3 and up  \n",
       "2  4.0.3 and up  \n",
       "3    4.2 and up  \n",
       "4    4.4 and up  "
      ]
     },
     "execution_count": 9,
     "metadata": {},
     "output_type": "execute_result"
    }
   ],
   "source": [
    "dataapp.head()"
   ]
  },
  {
   "cell_type": "code",
   "execution_count": 10,
   "id": "3d8a190f",
   "metadata": {},
   "outputs": [
    {
     "data": {
      "text/plain": [
       "0                       19M\n",
       "1                       14M\n",
       "2                      8.7M\n",
       "3                       25M\n",
       "4                      2.8M\n",
       "                ...        \n",
       "10834                  2.6M\n",
       "10836                   53M\n",
       "10837                  3.6M\n",
       "10839    Varies with device\n",
       "10840                   19M\n",
       "Name: Size, Length: 9360, dtype: object"
      ]
     },
     "execution_count": 10,
     "metadata": {},
     "output_type": "execute_result"
    }
   ],
   "source": [
    "dataapp.Size"
   ]
  },
  {
   "cell_type": "code",
   "execution_count": 11,
   "id": "cace45b6",
   "metadata": {},
   "outputs": [],
   "source": [
    "dataapp[\"Size\"] = [float(i.split('M')[0]) if 'M' in i else float(0) for i in dataapp[\"Size\"]]"
   ]
  },
  {
   "cell_type": "code",
   "execution_count": 12,
   "id": "bb724dac",
   "metadata": {},
   "outputs": [
    {
     "data": {
      "text/html": [
       "<div>\n",
       "<style scoped>\n",
       "    .dataframe tbody tr th:only-of-type {\n",
       "        vertical-align: middle;\n",
       "    }\n",
       "\n",
       "    .dataframe tbody tr th {\n",
       "        vertical-align: top;\n",
       "    }\n",
       "\n",
       "    .dataframe thead th {\n",
       "        text-align: right;\n",
       "    }\n",
       "</style>\n",
       "<table border=\"1\" class=\"dataframe\">\n",
       "  <thead>\n",
       "    <tr style=\"text-align: right;\">\n",
       "      <th></th>\n",
       "      <th>App</th>\n",
       "      <th>Category</th>\n",
       "      <th>Rating</th>\n",
       "      <th>Reviews</th>\n",
       "      <th>Size</th>\n",
       "      <th>Installs</th>\n",
       "      <th>Type</th>\n",
       "      <th>Price</th>\n",
       "      <th>Content Rating</th>\n",
       "      <th>Genres</th>\n",
       "      <th>Last Updated</th>\n",
       "      <th>Current Ver</th>\n",
       "      <th>Android Ver</th>\n",
       "    </tr>\n",
       "  </thead>\n",
       "  <tbody>\n",
       "    <tr>\n",
       "      <th>0</th>\n",
       "      <td>Photo Editor &amp; Candy Camera &amp; Grid &amp; ScrapBook</td>\n",
       "      <td>ART_AND_DESIGN</td>\n",
       "      <td>4.1</td>\n",
       "      <td>159</td>\n",
       "      <td>19.0</td>\n",
       "      <td>10,000+</td>\n",
       "      <td>Free</td>\n",
       "      <td>0</td>\n",
       "      <td>Everyone</td>\n",
       "      <td>Art &amp; Design</td>\n",
       "      <td>January 7, 2018</td>\n",
       "      <td>1.0.0</td>\n",
       "      <td>4.0.3 and up</td>\n",
       "    </tr>\n",
       "    <tr>\n",
       "      <th>1</th>\n",
       "      <td>Coloring book moana</td>\n",
       "      <td>ART_AND_DESIGN</td>\n",
       "      <td>3.9</td>\n",
       "      <td>967</td>\n",
       "      <td>14.0</td>\n",
       "      <td>500,000+</td>\n",
       "      <td>Free</td>\n",
       "      <td>0</td>\n",
       "      <td>Everyone</td>\n",
       "      <td>Art &amp; Design;Pretend Play</td>\n",
       "      <td>January 15, 2018</td>\n",
       "      <td>2.0.0</td>\n",
       "      <td>4.0.3 and up</td>\n",
       "    </tr>\n",
       "    <tr>\n",
       "      <th>2</th>\n",
       "      <td>U Launcher Lite – FREE Live Cool Themes, Hide ...</td>\n",
       "      <td>ART_AND_DESIGN</td>\n",
       "      <td>4.7</td>\n",
       "      <td>87510</td>\n",
       "      <td>8.7</td>\n",
       "      <td>5,000,000+</td>\n",
       "      <td>Free</td>\n",
       "      <td>0</td>\n",
       "      <td>Everyone</td>\n",
       "      <td>Art &amp; Design</td>\n",
       "      <td>August 1, 2018</td>\n",
       "      <td>1.2.4</td>\n",
       "      <td>4.0.3 and up</td>\n",
       "    </tr>\n",
       "    <tr>\n",
       "      <th>3</th>\n",
       "      <td>Sketch - Draw &amp; Paint</td>\n",
       "      <td>ART_AND_DESIGN</td>\n",
       "      <td>4.5</td>\n",
       "      <td>215644</td>\n",
       "      <td>25.0</td>\n",
       "      <td>50,000,000+</td>\n",
       "      <td>Free</td>\n",
       "      <td>0</td>\n",
       "      <td>Teen</td>\n",
       "      <td>Art &amp; Design</td>\n",
       "      <td>June 8, 2018</td>\n",
       "      <td>Varies with device</td>\n",
       "      <td>4.2 and up</td>\n",
       "    </tr>\n",
       "    <tr>\n",
       "      <th>4</th>\n",
       "      <td>Pixel Draw - Number Art Coloring Book</td>\n",
       "      <td>ART_AND_DESIGN</td>\n",
       "      <td>4.3</td>\n",
       "      <td>967</td>\n",
       "      <td>2.8</td>\n",
       "      <td>100,000+</td>\n",
       "      <td>Free</td>\n",
       "      <td>0</td>\n",
       "      <td>Everyone</td>\n",
       "      <td>Art &amp; Design;Creativity</td>\n",
       "      <td>June 20, 2018</td>\n",
       "      <td>1.1</td>\n",
       "      <td>4.4 and up</td>\n",
       "    </tr>\n",
       "  </tbody>\n",
       "</table>\n",
       "</div>"
      ],
      "text/plain": [
       "                                                 App        Category  Rating  \\\n",
       "0     Photo Editor & Candy Camera & Grid & ScrapBook  ART_AND_DESIGN     4.1   \n",
       "1                                Coloring book moana  ART_AND_DESIGN     3.9   \n",
       "2  U Launcher Lite – FREE Live Cool Themes, Hide ...  ART_AND_DESIGN     4.7   \n",
       "3                              Sketch - Draw & Paint  ART_AND_DESIGN     4.5   \n",
       "4              Pixel Draw - Number Art Coloring Book  ART_AND_DESIGN     4.3   \n",
       "\n",
       "  Reviews  Size     Installs  Type Price Content Rating  \\\n",
       "0     159  19.0      10,000+  Free     0       Everyone   \n",
       "1     967  14.0     500,000+  Free     0       Everyone   \n",
       "2   87510   8.7   5,000,000+  Free     0       Everyone   \n",
       "3  215644  25.0  50,000,000+  Free     0           Teen   \n",
       "4     967   2.8     100,000+  Free     0       Everyone   \n",
       "\n",
       "                      Genres      Last Updated         Current Ver  \\\n",
       "0               Art & Design   January 7, 2018               1.0.0   \n",
       "1  Art & Design;Pretend Play  January 15, 2018               2.0.0   \n",
       "2               Art & Design    August 1, 2018               1.2.4   \n",
       "3               Art & Design      June 8, 2018  Varies with device   \n",
       "4    Art & Design;Creativity     June 20, 2018                 1.1   \n",
       "\n",
       "    Android Ver  \n",
       "0  4.0.3 and up  \n",
       "1  4.0.3 and up  \n",
       "2  4.0.3 and up  \n",
       "3    4.2 and up  \n",
       "4    4.4 and up  "
      ]
     },
     "execution_count": 12,
     "metadata": {},
     "output_type": "execute_result"
    }
   ],
   "source": [
    "dataapp.head()"
   ]
  },
  {
   "cell_type": "code",
   "execution_count": 13,
   "id": "967436c6",
   "metadata": {},
   "outputs": [
    {
     "name": "stdout",
     "output_type": "stream",
     "text": [
      "<class 'pandas.core.frame.DataFrame'>\n",
      "Int64Index: 9360 entries, 0 to 10840\n",
      "Data columns (total 13 columns):\n",
      " #   Column          Non-Null Count  Dtype  \n",
      "---  ------          --------------  -----  \n",
      " 0   App             9360 non-null   object \n",
      " 1   Category        9360 non-null   object \n",
      " 2   Rating          9360 non-null   float64\n",
      " 3   Reviews         9360 non-null   object \n",
      " 4   Size            9360 non-null   float64\n",
      " 5   Installs        9360 non-null   object \n",
      " 6   Type            9360 non-null   object \n",
      " 7   Price           9360 non-null   object \n",
      " 8   Content Rating  9360 non-null   object \n",
      " 9   Genres          9360 non-null   object \n",
      " 10  Last Updated    9360 non-null   object \n",
      " 11  Current Ver     9360 non-null   object \n",
      " 12  Android Ver     9360 non-null   object \n",
      "dtypes: float64(2), object(11)\n",
      "memory usage: 1023.8+ KB\n"
     ]
    }
   ],
   "source": [
    "dataapp.info()"
   ]
  },
  {
   "cell_type": "code",
   "execution_count": 14,
   "id": "f767a171",
   "metadata": {},
   "outputs": [],
   "source": [
    "dataapp[\"Size\"]=dataapp[\"Size\"]*1000"
   ]
  },
  {
   "cell_type": "code",
   "execution_count": 15,
   "id": "feb6c1dc",
   "metadata": {},
   "outputs": [
    {
     "data": {
      "text/html": [
       "<div>\n",
       "<style scoped>\n",
       "    .dataframe tbody tr th:only-of-type {\n",
       "        vertical-align: middle;\n",
       "    }\n",
       "\n",
       "    .dataframe tbody tr th {\n",
       "        vertical-align: top;\n",
       "    }\n",
       "\n",
       "    .dataframe thead th {\n",
       "        text-align: right;\n",
       "    }\n",
       "</style>\n",
       "<table border=\"1\" class=\"dataframe\">\n",
       "  <thead>\n",
       "    <tr style=\"text-align: right;\">\n",
       "      <th></th>\n",
       "      <th>App</th>\n",
       "      <th>Category</th>\n",
       "      <th>Rating</th>\n",
       "      <th>Reviews</th>\n",
       "      <th>Size</th>\n",
       "      <th>Installs</th>\n",
       "      <th>Type</th>\n",
       "      <th>Price</th>\n",
       "      <th>Content Rating</th>\n",
       "      <th>Genres</th>\n",
       "      <th>Last Updated</th>\n",
       "      <th>Current Ver</th>\n",
       "      <th>Android Ver</th>\n",
       "    </tr>\n",
       "  </thead>\n",
       "  <tbody>\n",
       "    <tr>\n",
       "      <th>0</th>\n",
       "      <td>Photo Editor &amp; Candy Camera &amp; Grid &amp; ScrapBook</td>\n",
       "      <td>ART_AND_DESIGN</td>\n",
       "      <td>4.1</td>\n",
       "      <td>159</td>\n",
       "      <td>19000.0</td>\n",
       "      <td>10,000+</td>\n",
       "      <td>Free</td>\n",
       "      <td>0</td>\n",
       "      <td>Everyone</td>\n",
       "      <td>Art &amp; Design</td>\n",
       "      <td>January 7, 2018</td>\n",
       "      <td>1.0.0</td>\n",
       "      <td>4.0.3 and up</td>\n",
       "    </tr>\n",
       "    <tr>\n",
       "      <th>1</th>\n",
       "      <td>Coloring book moana</td>\n",
       "      <td>ART_AND_DESIGN</td>\n",
       "      <td>3.9</td>\n",
       "      <td>967</td>\n",
       "      <td>14000.0</td>\n",
       "      <td>500,000+</td>\n",
       "      <td>Free</td>\n",
       "      <td>0</td>\n",
       "      <td>Everyone</td>\n",
       "      <td>Art &amp; Design;Pretend Play</td>\n",
       "      <td>January 15, 2018</td>\n",
       "      <td>2.0.0</td>\n",
       "      <td>4.0.3 and up</td>\n",
       "    </tr>\n",
       "    <tr>\n",
       "      <th>2</th>\n",
       "      <td>U Launcher Lite – FREE Live Cool Themes, Hide ...</td>\n",
       "      <td>ART_AND_DESIGN</td>\n",
       "      <td>4.7</td>\n",
       "      <td>87510</td>\n",
       "      <td>8700.0</td>\n",
       "      <td>5,000,000+</td>\n",
       "      <td>Free</td>\n",
       "      <td>0</td>\n",
       "      <td>Everyone</td>\n",
       "      <td>Art &amp; Design</td>\n",
       "      <td>August 1, 2018</td>\n",
       "      <td>1.2.4</td>\n",
       "      <td>4.0.3 and up</td>\n",
       "    </tr>\n",
       "    <tr>\n",
       "      <th>3</th>\n",
       "      <td>Sketch - Draw &amp; Paint</td>\n",
       "      <td>ART_AND_DESIGN</td>\n",
       "      <td>4.5</td>\n",
       "      <td>215644</td>\n",
       "      <td>25000.0</td>\n",
       "      <td>50,000,000+</td>\n",
       "      <td>Free</td>\n",
       "      <td>0</td>\n",
       "      <td>Teen</td>\n",
       "      <td>Art &amp; Design</td>\n",
       "      <td>June 8, 2018</td>\n",
       "      <td>Varies with device</td>\n",
       "      <td>4.2 and up</td>\n",
       "    </tr>\n",
       "    <tr>\n",
       "      <th>4</th>\n",
       "      <td>Pixel Draw - Number Art Coloring Book</td>\n",
       "      <td>ART_AND_DESIGN</td>\n",
       "      <td>4.3</td>\n",
       "      <td>967</td>\n",
       "      <td>2800.0</td>\n",
       "      <td>100,000+</td>\n",
       "      <td>Free</td>\n",
       "      <td>0</td>\n",
       "      <td>Everyone</td>\n",
       "      <td>Art &amp; Design;Creativity</td>\n",
       "      <td>June 20, 2018</td>\n",
       "      <td>1.1</td>\n",
       "      <td>4.4 and up</td>\n",
       "    </tr>\n",
       "  </tbody>\n",
       "</table>\n",
       "</div>"
      ],
      "text/plain": [
       "                                                 App        Category  Rating  \\\n",
       "0     Photo Editor & Candy Camera & Grid & ScrapBook  ART_AND_DESIGN     4.1   \n",
       "1                                Coloring book moana  ART_AND_DESIGN     3.9   \n",
       "2  U Launcher Lite – FREE Live Cool Themes, Hide ...  ART_AND_DESIGN     4.7   \n",
       "3                              Sketch - Draw & Paint  ART_AND_DESIGN     4.5   \n",
       "4              Pixel Draw - Number Art Coloring Book  ART_AND_DESIGN     4.3   \n",
       "\n",
       "  Reviews     Size     Installs  Type Price Content Rating  \\\n",
       "0     159  19000.0      10,000+  Free     0       Everyone   \n",
       "1     967  14000.0     500,000+  Free     0       Everyone   \n",
       "2   87510   8700.0   5,000,000+  Free     0       Everyone   \n",
       "3  215644  25000.0  50,000,000+  Free     0           Teen   \n",
       "4     967   2800.0     100,000+  Free     0       Everyone   \n",
       "\n",
       "                      Genres      Last Updated         Current Ver  \\\n",
       "0               Art & Design   January 7, 2018               1.0.0   \n",
       "1  Art & Design;Pretend Play  January 15, 2018               2.0.0   \n",
       "2               Art & Design    August 1, 2018               1.2.4   \n",
       "3               Art & Design      June 8, 2018  Varies with device   \n",
       "4    Art & Design;Creativity     June 20, 2018                 1.1   \n",
       "\n",
       "    Android Ver  \n",
       "0  4.0.3 and up  \n",
       "1  4.0.3 and up  \n",
       "2  4.0.3 and up  \n",
       "3    4.2 and up  \n",
       "4    4.4 and up  "
      ]
     },
     "execution_count": 15,
     "metadata": {},
     "output_type": "execute_result"
    }
   ],
   "source": [
    "dataapp.head()"
   ]
  },
  {
   "cell_type": "code",
   "execution_count": 16,
   "id": "907703cb",
   "metadata": {},
   "outputs": [
    {
     "data": {
      "text/plain": [
       "0        19000.0\n",
       "1        14000.0\n",
       "2         8700.0\n",
       "3        25000.0\n",
       "4         2800.0\n",
       "          ...   \n",
       "10834     2600.0\n",
       "10836    53000.0\n",
       "10837     3600.0\n",
       "10839        0.0\n",
       "10840    19000.0\n",
       "Name: Size, Length: 9360, dtype: float64"
      ]
     },
     "execution_count": 16,
     "metadata": {},
     "output_type": "execute_result"
    }
   ],
   "source": [
    "dataapp.Size"
   ]
  },
  {
   "cell_type": "code",
   "execution_count": 17,
   "id": "74f3eb19",
   "metadata": {},
   "outputs": [],
   "source": [
    "dataapp[\"Reviews\"]=dataapp[\"Reviews\"].astype(int)"
   ]
  },
  {
   "cell_type": "code",
   "execution_count": 18,
   "id": "1cd378a8",
   "metadata": {},
   "outputs": [
    {
     "data": {
      "text/plain": [
       "0           159\n",
       "1           967\n",
       "2         87510\n",
       "3        215644\n",
       "4           967\n",
       "          ...  \n",
       "10834         7\n",
       "10836        38\n",
       "10837         4\n",
       "10839       114\n",
       "10840    398307\n",
       "Name: Reviews, Length: 9360, dtype: int32"
      ]
     },
     "execution_count": 18,
     "metadata": {},
     "output_type": "execute_result"
    }
   ],
   "source": [
    "dataapp.Reviews"
   ]
  },
  {
   "cell_type": "code",
   "execution_count": 19,
   "id": "bd96ea82",
   "metadata": {},
   "outputs": [],
   "source": [
    "dataapp[\"Installs\"]=[float(i.replace('+','').replace(',','')) if '+' in i or ',' in i else float(0) for i in dataapp[\"Installs\"]]"
   ]
  },
  {
   "cell_type": "code",
   "execution_count": 20,
   "id": "34640094",
   "metadata": {},
   "outputs": [
    {
     "name": "stdout",
     "output_type": "stream",
     "text": [
      "<class 'pandas.core.frame.DataFrame'>\n",
      "Int64Index: 9360 entries, 0 to 10840\n",
      "Data columns (total 13 columns):\n",
      " #   Column          Non-Null Count  Dtype  \n",
      "---  ------          --------------  -----  \n",
      " 0   App             9360 non-null   object \n",
      " 1   Category        9360 non-null   object \n",
      " 2   Rating          9360 non-null   float64\n",
      " 3   Reviews         9360 non-null   int32  \n",
      " 4   Size            9360 non-null   float64\n",
      " 5   Installs        9360 non-null   float64\n",
      " 6   Type            9360 non-null   object \n",
      " 7   Price           9360 non-null   object \n",
      " 8   Content Rating  9360 non-null   object \n",
      " 9   Genres          9360 non-null   object \n",
      " 10  Last Updated    9360 non-null   object \n",
      " 11  Current Ver     9360 non-null   object \n",
      " 12  Android Ver     9360 non-null   object \n",
      "dtypes: float64(3), int32(1), object(9)\n",
      "memory usage: 987.2+ KB\n"
     ]
    }
   ],
   "source": [
    "dataapp.info()"
   ]
  },
  {
   "cell_type": "code",
   "execution_count": 21,
   "id": "69c8ab5a",
   "metadata": {},
   "outputs": [],
   "source": [
    "dataapp[\"Installs\"]=dataapp[\"Installs\"].astype(int)"
   ]
  },
  {
   "cell_type": "code",
   "execution_count": 22,
   "id": "7ffa386c",
   "metadata": {},
   "outputs": [
    {
     "name": "stdout",
     "output_type": "stream",
     "text": [
      "<class 'pandas.core.frame.DataFrame'>\n",
      "Int64Index: 9360 entries, 0 to 10840\n",
      "Data columns (total 13 columns):\n",
      " #   Column          Non-Null Count  Dtype  \n",
      "---  ------          --------------  -----  \n",
      " 0   App             9360 non-null   object \n",
      " 1   Category        9360 non-null   object \n",
      " 2   Rating          9360 non-null   float64\n",
      " 3   Reviews         9360 non-null   int32  \n",
      " 4   Size            9360 non-null   float64\n",
      " 5   Installs        9360 non-null   int32  \n",
      " 6   Type            9360 non-null   object \n",
      " 7   Price           9360 non-null   object \n",
      " 8   Content Rating  9360 non-null   object \n",
      " 9   Genres          9360 non-null   object \n",
      " 10  Last Updated    9360 non-null   object \n",
      " 11  Current Ver     9360 non-null   object \n",
      " 12  Android Ver     9360 non-null   object \n",
      "dtypes: float64(2), int32(2), object(9)\n",
      "memory usage: 950.6+ KB\n"
     ]
    }
   ],
   "source": [
    "dataapp.info()"
   ]
  },
  {
   "cell_type": "code",
   "execution_count": 23,
   "id": "658c654e",
   "metadata": {},
   "outputs": [],
   "source": [
    "dataapp[\"Price\"]=[float(i.replace(\"$\",\"\")) if \"$\" in i else float(0) for i in dataapp[\"Price\"]]"
   ]
  },
  {
   "cell_type": "code",
   "execution_count": 24,
   "id": "f1ff5ad3",
   "metadata": {},
   "outputs": [],
   "source": [
    "dataapp[\"Price\"]=dataapp[\"Price\"].astype(int)"
   ]
  },
  {
   "cell_type": "markdown",
   "id": "bd2ad4f5",
   "metadata": {},
   "source": [
    "# 5) Sanity checks:\n",
    "\n",
    "5.1) Average rating should be between 1 and 5 as only these values are allowed on the play store. Drop the rows that have a value outside this range.\n",
    "\n",
    "5.2 )Reviews should not be more than installs as only those who installed can review the app. If there are any such records, drop them.\n",
    "\n",
    "5.3)For free apps (type = “Free”), the price should not be >0. Drop any such rows."
   ]
  },
  {
   "cell_type": "code",
   "execution_count": 25,
   "id": "5e8d8903",
   "metadata": {},
   "outputs": [
    {
     "data": {
      "text/plain": [
       "(9360, 13)"
      ]
     },
     "execution_count": 25,
     "metadata": {},
     "output_type": "execute_result"
    }
   ],
   "source": [
    "dataapp.shape"
   ]
  },
  {
   "cell_type": "code",
   "execution_count": 26,
   "id": "90e09dd6",
   "metadata": {},
   "outputs": [],
   "source": [
    "dataapp.drop(dataapp[(dataapp[\"Reviews\"]<1) & (dataapp[\"Reviews\"]>5)].index,inplace=True)"
   ]
  },
  {
   "cell_type": "code",
   "execution_count": 27,
   "id": "f549afcc",
   "metadata": {},
   "outputs": [
    {
     "data": {
      "text/plain": [
       "(9360, 13)"
      ]
     },
     "execution_count": 27,
     "metadata": {},
     "output_type": "execute_result"
    }
   ],
   "source": [
    "dataapp.shape"
   ]
  },
  {
   "cell_type": "code",
   "execution_count": 28,
   "id": "fa70cf14",
   "metadata": {},
   "outputs": [],
   "source": [
    "dataapp.drop(dataapp[dataapp[\"Reviews\"] > dataapp[\"Installs\"]].index, inplace=True)"
   ]
  },
  {
   "cell_type": "code",
   "execution_count": 29,
   "id": "0379c059",
   "metadata": {},
   "outputs": [
    {
     "data": {
      "text/plain": [
       "(9353, 13)"
      ]
     },
     "execution_count": 29,
     "metadata": {},
     "output_type": "execute_result"
    }
   ],
   "source": [
    "dataapp.shape"
   ]
  },
  {
   "cell_type": "code",
   "execution_count": 30,
   "id": "59c73e16",
   "metadata": {},
   "outputs": [],
   "source": [
    "dataapp.drop(dataapp[(dataapp[\"Type\"]==\"Free\") & (dataapp[\"Price\"]>0)].index, inplace=True)"
   ]
  },
  {
   "cell_type": "code",
   "execution_count": 31,
   "id": "1318db79",
   "metadata": {},
   "outputs": [
    {
     "data": {
      "text/plain": [
       "(9353, 13)"
      ]
     },
     "execution_count": 31,
     "metadata": {},
     "output_type": "execute_result"
    }
   ],
   "source": [
    "dataapp.shape"
   ]
  },
  {
   "cell_type": "markdown",
   "id": "eef0fb7d",
   "metadata": {},
   "source": [
    "# 5). Performing univariate analysis: \n",
    "\n",
    "Boxplot for Price\n",
    "\n",
    "Are there any outliers? Think about the price of usual apps on Play Store.\n",
    "\n",
    "Boxplot for Reviews\n",
    "\n",
    "Are there any apps with very high number of reviews? Do the values seem right?\n",
    "\n",
    "Histogram for Rating\n",
    "\n",
    "How are the ratings distributed? Is it more toward higher ratings?\n",
    "\n",
    "Histogram for Size\n",
    "\n",
    "Note down your observations for the plots made above. Which of these seem to have outliers?"
   ]
  },
  {
   "cell_type": "code",
   "execution_count": 32,
   "id": "86648a70",
   "metadata": {},
   "outputs": [
    {
     "name": "stderr",
     "output_type": "stream",
     "text": [
      "C:\\ProgramData\\Anaconda3\\lib\\site-packages\\seaborn\\_decorators.py:36: FutureWarning: Pass the following variable as a keyword arg: x. From version 0.12, the only valid positional argument will be `data`, and passing other arguments without an explicit keyword will result in an error or misinterpretation.\n",
      "  warnings.warn(\n"
     ]
    },
    {
     "data": {
      "text/plain": [
       "<AxesSubplot:xlabel='Price'>"
      ]
     },
     "execution_count": 32,
     "metadata": {},
     "output_type": "execute_result"
    },
    {
     "data": {
      "image/png": "[encoded data removed]",
      "text/plain": [
       "<Figure size 640x480 with 1 Axes>"
      ]
     },
     "metadata": {},
     "output_type": "display_data"
    }
   ],
   "source": [
    "sns.boxplot(dataapp[\"Price\"])"
   ]
  },
  {
   "cell_type": "markdown",
   "id": "89f241e8",
   "metadata": {},
   "source": [
    "#From the above boxplot, 60 and above prices are Outliers"
   ]
  },
  {
   "cell_type": "code",
   "execution_count": 33,
   "id": "29f7bf2d",
   "metadata": {},
   "outputs": [
    {
     "name": "stderr",
     "output_type": "stream",
     "text": [
      "C:\\ProgramData\\Anaconda3\\lib\\site-packages\\seaborn\\_decorators.py:36: FutureWarning: Pass the following variable as a keyword arg: x. From version 0.12, the only valid positional argument will be `data`, and passing other arguments without an explicit keyword will result in an error or misinterpretation.\n",
      "  warnings.warn(\n"
     ]
    },
    {
     "data": {
      "text/plain": [
       "<AxesSubplot:xlabel='Reviews'>"
      ]
     },
     "execution_count": 33,
     "metadata": {},
     "output_type": "execute_result"
    },
    {
     "data": {
      "image/png": "[encoded data removed]",
      "text/plain": [
       "<Figure size 640x480 with 1 Axes>"
      ]
     },
     "metadata": {},
     "output_type": "display_data"
    }
   ],
   "source": [
    "sns.boxplot(dataapp[\"Reviews\"])"
   ]
  },
  {
   "cell_type": "code",
   "execution_count": 34,
   "id": "be58632d",
   "metadata": {},
   "outputs": [
    {
     "data": {
      "text/plain": [
       "<AxesSubplot:xlabel='Rating', ylabel='Count'>"
      ]
     },
     "execution_count": 34,
     "metadata": {},
     "output_type": "execute_result"
    },
    {
     "data": {
      "image/png": "[encoded data removed]",
      "text/plain": [
       "<Figure size 640x480 with 1 Axes>"
      ]
     },
     "metadata": {},
     "output_type": "display_data"
    }
   ],
   "source": [
    "sns.histplot(dataapp[\"Rating\"])"
   ]
  },
  {
   "cell_type": "markdown",
   "id": "58edf6f8",
   "metadata": {},
   "source": [
    "#some apps are havinb higher rating between 4 and 5"
   ]
  },
  {
   "cell_type": "code",
   "execution_count": 35,
   "id": "06125c04",
   "metadata": {},
   "outputs": [
    {
     "data": {
      "text/plain": [
       "<AxesSubplot:xlabel='Size', ylabel='Count'>"
      ]
     },
     "execution_count": 35,
     "metadata": {},
     "output_type": "execute_result"
    },
    {
     "data": {
      "image/png": "[encoded data removed]",
      "text/plain": [
       "<Figure size 640x480 with 1 Axes>"
      ]
     },
     "metadata": {},
     "output_type": "display_data"
    }
   ],
   "source": [
    "sns.histplot(dataapp[\"Size\"])"
   ]
  },
  {
   "cell_type": "code",
   "execution_count": 36,
   "id": "928cde4a",
   "metadata": {},
   "outputs": [],
   "source": [
    "#most apps are having less size"
   ]
  },
  {
   "cell_type": "code",
   "execution_count": 37,
   "id": "eb87d1b4",
   "metadata": {},
   "outputs": [
    {
     "data": {
      "text/plain": [
       "(9353, 13)"
      ]
     },
     "execution_count": 37,
     "metadata": {},
     "output_type": "execute_result"
    }
   ],
   "source": [
    "dataapp.shape"
   ]
  },
  {
   "cell_type": "markdown",
   "id": "ed4f3f46",
   "metadata": {},
   "source": [
    "# 6) Outlier treatment: \n",
    "\n",
    "Price: From the box plot, it seems like there are some apps with very high price. A price of $200 for an application on the Play Store is very high and suspicious!\n",
    "\n",
    "Check out the records with very high price\n",
    "\n",
    "Is 200 indeed a high price?\n",
    "\n",
    "Drop these as most seem to be junk apps\n",
    "\n",
    "Reviews: Very few apps have very high number of reviews. These are all star apps that don’t help with the analysis and, in fact, will skew it. Drop records having more than 2 million reviews.\n",
    "\n",
    "Installs:  There seems to be some outliers in this field too. Apps having very high number of installs should be dropped from the analysis.\n",
    "\n",
    "Find out the different percentiles – 10, 25, 50, 70, 90, 95, 99\n",
    "\n",
    "Decide a threshold as cutoff for outlier and drop records having values more than that"
   ]
  },
  {
   "cell_type": "code",
   "execution_count": 38,
   "id": "c3aa5bb8",
   "metadata": {},
   "outputs": [],
   "source": [
    "dataapp.drop(dataapp[dataapp[\"Price\"]> 200].index, inplace=True)"
   ]
  },
  {
   "cell_type": "code",
   "execution_count": 39,
   "id": "8b1f794f",
   "metadata": {},
   "outputs": [
    {
     "data": {
      "text/plain": [
       "(9338, 13)"
      ]
     },
     "execution_count": 39,
     "metadata": {},
     "output_type": "execute_result"
    }
   ],
   "source": [
    "dataapp.shape"
   ]
  },
  {
   "cell_type": "code",
   "execution_count": 40,
   "id": "216c86e4",
   "metadata": {},
   "outputs": [],
   "source": [
    "dataapp.drop(dataapp[dataapp['Reviews'] > 2000000].index, inplace = True)"
   ]
  },
  {
   "cell_type": "code",
   "execution_count": 41,
   "id": "f9bd1a16",
   "metadata": {},
   "outputs": [
    {
     "data": {
      "text/plain": [
       "(8885, 13)"
      ]
     },
     "execution_count": 41,
     "metadata": {},
     "output_type": "execute_result"
    }
   ],
   "source": [
    "dataapp.shape"
   ]
  },
  {
   "cell_type": "code",
   "execution_count": 42,
   "id": "47d90991",
   "metadata": {},
   "outputs": [
    {
     "data": {
      "text/html": [
       "<div>\n",
       "<style scoped>\n",
       "    .dataframe tbody tr th:only-of-type {\n",
       "        vertical-align: middle;\n",
       "    }\n",
       "\n",
       "    .dataframe tbody tr th {\n",
       "        vertical-align: top;\n",
       "    }\n",
       "\n",
       "    .dataframe thead th {\n",
       "        text-align: right;\n",
       "    }\n",
       "</style>\n",
       "<table border=\"1\" class=\"dataframe\">\n",
       "  <thead>\n",
       "    <tr style=\"text-align: right;\">\n",
       "      <th></th>\n",
       "      <th>Rating</th>\n",
       "      <th>Reviews</th>\n",
       "      <th>Size</th>\n",
       "      <th>Installs</th>\n",
       "      <th>Price</th>\n",
       "    </tr>\n",
       "  </thead>\n",
       "  <tbody>\n",
       "    <tr>\n",
       "      <th>0.10</th>\n",
       "      <td>3.5</td>\n",
       "      <td>18.00</td>\n",
       "      <td>0.0</td>\n",
       "      <td>1000.0</td>\n",
       "      <td>0.0</td>\n",
       "    </tr>\n",
       "    <tr>\n",
       "      <th>0.25</th>\n",
       "      <td>4.0</td>\n",
       "      <td>159.00</td>\n",
       "      <td>2600.0</td>\n",
       "      <td>10000.0</td>\n",
       "      <td>0.0</td>\n",
       "    </tr>\n",
       "    <tr>\n",
       "      <th>0.50</th>\n",
       "      <td>4.3</td>\n",
       "      <td>4290.00</td>\n",
       "      <td>9500.0</td>\n",
       "      <td>500000.0</td>\n",
       "      <td>0.0</td>\n",
       "    </tr>\n",
       "    <tr>\n",
       "      <th>0.70</th>\n",
       "      <td>4.5</td>\n",
       "      <td>35930.40</td>\n",
       "      <td>23000.0</td>\n",
       "      <td>1000000.0</td>\n",
       "      <td>0.0</td>\n",
       "    </tr>\n",
       "    <tr>\n",
       "      <th>0.90</th>\n",
       "      <td>4.7</td>\n",
       "      <td>296771.00</td>\n",
       "      <td>50000.0</td>\n",
       "      <td>10000000.0</td>\n",
       "      <td>0.0</td>\n",
       "    </tr>\n",
       "    <tr>\n",
       "      <th>0.95</th>\n",
       "      <td>4.8</td>\n",
       "      <td>637298.00</td>\n",
       "      <td>68000.0</td>\n",
       "      <td>10000000.0</td>\n",
       "      <td>1.0</td>\n",
       "    </tr>\n",
       "    <tr>\n",
       "      <th>0.99</th>\n",
       "      <td>5.0</td>\n",
       "      <td>1462800.88</td>\n",
       "      <td>95000.0</td>\n",
       "      <td>100000000.0</td>\n",
       "      <td>7.0</td>\n",
       "    </tr>\n",
       "  </tbody>\n",
       "</table>\n",
       "</div>"
      ],
      "text/plain": [
       "      Rating     Reviews     Size     Installs  Price\n",
       "0.10     3.5       18.00      0.0       1000.0    0.0\n",
       "0.25     4.0      159.00   2600.0      10000.0    0.0\n",
       "0.50     4.3     4290.00   9500.0     500000.0    0.0\n",
       "0.70     4.5    35930.40  23000.0    1000000.0    0.0\n",
       "0.90     4.7   296771.00  50000.0   10000000.0    0.0\n",
       "0.95     4.8   637298.00  68000.0   10000000.0    1.0\n",
       "0.99     5.0  1462800.88  95000.0  100000000.0    7.0"
      ]
     },
     "execution_count": 42,
     "metadata": {},
     "output_type": "execute_result"
    }
   ],
   "source": [
    "dataapp.quantile([.1, .25, .5, .70, .90, .95, .99], axis = 0) "
   ]
  },
  {
   "cell_type": "markdown",
   "id": "b9891e11",
   "metadata": {},
   "source": [
    "#dropping more than 10000000 Install value"
   ]
  },
  {
   "cell_type": "code",
   "execution_count": 43,
   "id": "fb84195b",
   "metadata": {},
   "outputs": [],
   "source": [
    "dataapp.drop(dataapp[dataapp['Installs'] > 10000000].index, inplace = True)"
   ]
  },
  {
   "cell_type": "code",
   "execution_count": 44,
   "id": "d7509bd0",
   "metadata": {},
   "outputs": [
    {
     "data": {
      "text/plain": [
       "(8496, 13)"
      ]
     },
     "execution_count": 44,
     "metadata": {},
     "output_type": "execute_result"
    }
   ],
   "source": [
    "dataapp.shape"
   ]
  },
  {
   "cell_type": "markdown",
   "id": "f6b187fe",
   "metadata": {},
   "source": [
    "# 7). Bivariate analysis: Let’s look at how the available predictors relate to the variable of interest, i.e., our target variable rating. Make scatter plots (for numeric features) and box plots (for character features) to assess the relations between rating and the other features.\n",
    "\n",
    "1) Make scatter plot/joinplot for Rating vs. Price\n",
    "\n",
    "What pattern do you observe? Does rating increase with price?\n",
    "\n",
    "2) Make scatter plot/joinplot for Rating vs. Size\n",
    "\n",
    "Are heavier apps rated better?\n",
    "\n",
    "3) Make scatter plot/joinplot for Rating vs. Reviews\n",
    "\n",
    "Does more review mean a better rating always?\n",
    "\n",
    "4) Make boxplot for Rating vs. Content Rating\n",
    "\n",
    "Is there any difference in the ratings? Are some types liked better?\n",
    "\n",
    "5) Make boxplot for Ratings vs. Category\n",
    "\n",
    "Which genre has the best ratings?"
   ]
  },
  {
   "cell_type": "code",
   "execution_count": 45,
   "id": "81fcfae7",
   "metadata": {},
   "outputs": [
    {
     "data": {
      "text/plain": [
       "<AxesSubplot:xlabel='Rating', ylabel='Price'>"
      ]
     },
     "execution_count": 45,
     "metadata": {},
     "output_type": "execute_result"
    },
    {
     "data": {
      "image/png": "[encoded data removed]",
      "text/plain": [
       "<Figure size 640x480 with 1 Axes>"
      ]
     },
     "metadata": {},
     "output_type": "display_data"
    }
   ],
   "source": [
    "sns.scatterplot(x='Rating', y='Price',data=dataapp)"
   ]
  },
  {
   "cell_type": "markdown",
   "id": "f695cd21",
   "metadata": {},
   "source": [
    "#analysis shows that rating has some effect with price "
   ]
  },
  {
   "cell_type": "code",
   "execution_count": 46,
   "id": "a0bb8a1b",
   "metadata": {},
   "outputs": [
    {
     "data": {
      "text/plain": [
       "<AxesSubplot:xlabel='Rating', ylabel='Size'>"
      ]
     },
     "execution_count": 46,
     "metadata": {},
     "output_type": "execute_result"
    },
    {
     "data": {
      "image/png": "[encoded data removed]",
      "text/plain": [
       "<Figure size 640x480 with 1 Axes>"
      ]
     },
     "metadata": {},
     "output_type": "display_data"
    }
   ],
   "source": [
    "sns.scatterplot(x='Rating',y='Size',data=dataapp)"
   ]
  },
  {
   "cell_type": "markdown",
   "id": "20919753",
   "metadata": {},
   "source": [
    "#analysis shows that as rating increases with increase in size"
   ]
  },
  {
   "cell_type": "code",
   "execution_count": 47,
   "id": "d8a5850a",
   "metadata": {},
   "outputs": [
    {
     "data": {
      "text/plain": [
       "<AxesSubplot:xlabel='Rating', ylabel='Reviews'>"
      ]
     },
     "execution_count": 47,
     "metadata": {},
     "output_type": "execute_result"
    },
    {
     "data": {
      "image/png": "[encoded data removed]",
      "text/plain": [
       "<Figure size 640x480 with 1 Axes>"
      ]
     },
     "metadata": {},
     "output_type": "display_data"
    }
   ],
   "source": [
    "sns.scatterplot(x='Rating',y='Reviews',data=dataapp)"
   ]
  },
  {
   "cell_type": "code",
   "execution_count": 48,
   "id": "80cfe62c",
   "metadata": {},
   "outputs": [],
   "source": [
    "#analysis shows rating increases with increase in reviews.."
   ]
  },
  {
   "cell_type": "code",
   "execution_count": 49,
   "id": "39150968",
   "metadata": {},
   "outputs": [
    {
     "data": {
      "text/plain": [
       "<AxesSubplot:xlabel='Rating', ylabel='Content Rating'>"
      ]
     },
     "execution_count": 49,
     "metadata": {},
     "output_type": "execute_result"
    },
    {
     "data": {
      "image/png": "[encoded data removed]",
      "text/plain": [
       "<Figure size 640x480 with 1 Axes>"
      ]
     },
     "metadata": {},
     "output_type": "display_data"
    }
   ],
   "source": [
    "sns.boxplot(x=\"Rating\", y=\"Content Rating\", data=dataapp)"
   ]
  },
  {
   "cell_type": "markdown",
   "id": "9b2499dd",
   "metadata": {},
   "source": [
    "#Those apps which are categorised in content rating for everyone have more bad ratings compare to other sections because of number of oulier count, while 18+ apps have better ratings as they don't have any outlier."
   ]
  },
  {
   "cell_type": "code",
   "execution_count": 50,
   "id": "d7f34ddc",
   "metadata": {},
   "outputs": [
    {
     "data": {
      "text/plain": [
       "<AxesSubplot:xlabel='Rating', ylabel='Category'>"
      ]
     },
     "execution_count": 50,
     "metadata": {},
     "output_type": "execute_result"
    },
    {
     "data": {
      "image/png": "[encoded data removed]",
      "text/plain": [
       "<Figure size 640x480 with 1 Axes>"
      ]
     },
     "metadata": {},
     "output_type": "display_data"
    }
   ],
   "source": [
    "sns.boxplot(x=\"Rating\", y=\"Category\", data=dataapp)"
   ]
  },
  {
   "cell_type": "markdown",
   "id": "db61f8d3",
   "metadata": {},
   "source": [
    "#event has more rating as it contain less outliers."
   ]
  },
  {
   "cell_type": "markdown",
   "id": "2526905e",
   "metadata": {},
   "source": [
    "# 8. Data preprocessing\n",
    "\n",
    "For the steps below, create a copy of the dataframe to make all the edits. Name it inp1.\n",
    "\n",
    "1) Reviews and Install have some values that are still relatively very high. Before building a linear regression model, you need to reduce the skew. Apply log transformation (np.log1p) to Reviews and Installs.\n",
    "\n",
    "2) Drop columns App, Last Updated, Current Ver, and Android Ver. These variables are not useful for our task.\n",
    "\n",
    "3) Get dummy columns for Category, Genres, and Content Rating. This needs to be done as the models do not understand categorical data, and all data should be numeric. Dummy encoding is one way to convert character fields to numeric. Name of dataframe should be inp2."
   ]
  },
  {
   "cell_type": "code",
   "execution_count": 51,
   "id": "910ff08b",
   "metadata": {},
   "outputs": [],
   "source": [
    "inp1 = dataapp"
   ]
  },
  {
   "cell_type": "code",
   "execution_count": 52,
   "id": "157b0050",
   "metadata": {},
   "outputs": [
    {
     "data": {
      "text/html": [
       "<div>\n",
       "<style scoped>\n",
       "    .dataframe tbody tr th:only-of-type {\n",
       "        vertical-align: middle;\n",
       "    }\n",
       "\n",
       "    .dataframe tbody tr th {\n",
       "        vertical-align: top;\n",
       "    }\n",
       "\n",
       "    .dataframe thead th {\n",
       "        text-align: right;\n",
       "    }\n",
       "</style>\n",
       "<table border=\"1\" class=\"dataframe\">\n",
       "  <thead>\n",
       "    <tr style=\"text-align: right;\">\n",
       "      <th></th>\n",
       "      <th>App</th>\n",
       "      <th>Category</th>\n",
       "      <th>Rating</th>\n",
       "      <th>Reviews</th>\n",
       "      <th>Size</th>\n",
       "      <th>Installs</th>\n",
       "      <th>Type</th>\n",
       "      <th>Price</th>\n",
       "      <th>Content Rating</th>\n",
       "      <th>Genres</th>\n",
       "      <th>Last Updated</th>\n",
       "      <th>Current Ver</th>\n",
       "      <th>Android Ver</th>\n",
       "    </tr>\n",
       "  </thead>\n",
       "  <tbody>\n",
       "    <tr>\n",
       "      <th>0</th>\n",
       "      <td>Photo Editor &amp; Candy Camera &amp; Grid &amp; ScrapBook</td>\n",
       "      <td>ART_AND_DESIGN</td>\n",
       "      <td>4.1</td>\n",
       "      <td>159</td>\n",
       "      <td>19000.0</td>\n",
       "      <td>10000</td>\n",
       "      <td>Free</td>\n",
       "      <td>0</td>\n",
       "      <td>Everyone</td>\n",
       "      <td>Art &amp; Design</td>\n",
       "      <td>January 7, 2018</td>\n",
       "      <td>1.0.0</td>\n",
       "      <td>4.0.3 and up</td>\n",
       "    </tr>\n",
       "    <tr>\n",
       "      <th>1</th>\n",
       "      <td>Coloring book moana</td>\n",
       "      <td>ART_AND_DESIGN</td>\n",
       "      <td>3.9</td>\n",
       "      <td>967</td>\n",
       "      <td>14000.0</td>\n",
       "      <td>500000</td>\n",
       "      <td>Free</td>\n",
       "      <td>0</td>\n",
       "      <td>Everyone</td>\n",
       "      <td>Art &amp; Design;Pretend Play</td>\n",
       "      <td>January 15, 2018</td>\n",
       "      <td>2.0.0</td>\n",
       "      <td>4.0.3 and up</td>\n",
       "    </tr>\n",
       "    <tr>\n",
       "      <th>2</th>\n",
       "      <td>U Launcher Lite – FREE Live Cool Themes, Hide ...</td>\n",
       "      <td>ART_AND_DESIGN</td>\n",
       "      <td>4.7</td>\n",
       "      <td>87510</td>\n",
       "      <td>8700.0</td>\n",
       "      <td>5000000</td>\n",
       "      <td>Free</td>\n",
       "      <td>0</td>\n",
       "      <td>Everyone</td>\n",
       "      <td>Art &amp; Design</td>\n",
       "      <td>August 1, 2018</td>\n",
       "      <td>1.2.4</td>\n",
       "      <td>4.0.3 and up</td>\n",
       "    </tr>\n",
       "    <tr>\n",
       "      <th>4</th>\n",
       "      <td>Pixel Draw - Number Art Coloring Book</td>\n",
       "      <td>ART_AND_DESIGN</td>\n",
       "      <td>4.3</td>\n",
       "      <td>967</td>\n",
       "      <td>2800.0</td>\n",
       "      <td>100000</td>\n",
       "      <td>Free</td>\n",
       "      <td>0</td>\n",
       "      <td>Everyone</td>\n",
       "      <td>Art &amp; Design;Creativity</td>\n",
       "      <td>June 20, 2018</td>\n",
       "      <td>1.1</td>\n",
       "      <td>4.4 and up</td>\n",
       "    </tr>\n",
       "    <tr>\n",
       "      <th>5</th>\n",
       "      <td>Paper flowers instructions</td>\n",
       "      <td>ART_AND_DESIGN</td>\n",
       "      <td>4.4</td>\n",
       "      <td>167</td>\n",
       "      <td>5600.0</td>\n",
       "      <td>50000</td>\n",
       "      <td>Free</td>\n",
       "      <td>0</td>\n",
       "      <td>Everyone</td>\n",
       "      <td>Art &amp; Design</td>\n",
       "      <td>March 26, 2017</td>\n",
       "      <td>1.0</td>\n",
       "      <td>2.3 and up</td>\n",
       "    </tr>\n",
       "  </tbody>\n",
       "</table>\n",
       "</div>"
      ],
      "text/plain": [
       "                                                 App        Category  Rating  \\\n",
       "0     Photo Editor & Candy Camera & Grid & ScrapBook  ART_AND_DESIGN     4.1   \n",
       "1                                Coloring book moana  ART_AND_DESIGN     3.9   \n",
       "2  U Launcher Lite – FREE Live Cool Themes, Hide ...  ART_AND_DESIGN     4.7   \n",
       "4              Pixel Draw - Number Art Coloring Book  ART_AND_DESIGN     4.3   \n",
       "5                         Paper flowers instructions  ART_AND_DESIGN     4.4   \n",
       "\n",
       "   Reviews     Size  Installs  Type  Price Content Rating  \\\n",
       "0      159  19000.0     10000  Free      0       Everyone   \n",
       "1      967  14000.0    500000  Free      0       Everyone   \n",
       "2    87510   8700.0   5000000  Free      0       Everyone   \n",
       "4      967   2800.0    100000  Free      0       Everyone   \n",
       "5      167   5600.0     50000  Free      0       Everyone   \n",
       "\n",
       "                      Genres      Last Updated Current Ver   Android Ver  \n",
       "0               Art & Design   January 7, 2018       1.0.0  4.0.3 and up  \n",
       "1  Art & Design;Pretend Play  January 15, 2018       2.0.0  4.0.3 and up  \n",
       "2               Art & Design    August 1, 2018       1.2.4  4.0.3 and up  \n",
       "4    Art & Design;Creativity     June 20, 2018         1.1    4.4 and up  \n",
       "5               Art & Design    March 26, 2017         1.0    2.3 and up  "
      ]
     },
     "execution_count": 52,
     "metadata": {},
     "output_type": "execute_result"
    }
   ],
   "source": [
    "inp1.head()"
   ]
  },
  {
   "cell_type": "markdown",
   "id": "5e212144",
   "metadata": {},
   "source": [
    "#Reviews and Installs column still have some relatively high values, before building the linear regression model we need to reduce the skew will do log transformation for columns."
   ]
  },
  {
   "cell_type": "code",
   "execution_count": 53,
   "id": "4c45375e",
   "metadata": {},
   "outputs": [
    {
     "name": "stderr",
     "output_type": "stream",
     "text": [
      "C:\\Users\\91918\\AppData\\Local\\Temp\\ipykernel_45416\\3545313420.py:1: FutureWarning: Dropping of nuisance columns in DataFrame reductions (with 'numeric_only=None') is deprecated; in a future version this will raise TypeError.  Select only valid columns before calling the reduction.\n",
      "  inp1.skew()\n"
     ]
    },
    {
     "data": {
      "text/plain": [
       "Rating      -1.749753\n",
       "Reviews      4.576494\n",
       "Size         1.655917\n",
       "Installs     1.543697\n",
       "Price       18.074542\n",
       "dtype: float64"
      ]
     },
     "execution_count": 53,
     "metadata": {},
     "output_type": "execute_result"
    }
   ],
   "source": [
    "inp1.skew()"
   ]
  },
  {
   "cell_type": "code",
   "execution_count": 54,
   "id": "de3eecc2",
   "metadata": {},
   "outputs": [],
   "source": [
    "#) apply log transformation to Reviews\n",
    "reviewskew = np.log1p(inp1['Reviews'])\n",
    "inp1['Reviews'] = reviewskew"
   ]
  },
  {
   "cell_type": "code",
   "execution_count": 55,
   "id": "d6888c83",
   "metadata": {},
   "outputs": [
    {
     "data": {
      "text/plain": [
       "-0.20039949659264134"
      ]
     },
     "execution_count": 55,
     "metadata": {},
     "output_type": "execute_result"
    }
   ],
   "source": [
    "reviewskew.skew()"
   ]
  },
  {
   "cell_type": "code",
   "execution_count": 56,
   "id": "03ac5ebe",
   "metadata": {},
   "outputs": [
    {
     "data": {
      "text/plain": [
       "0           10000\n",
       "1          500000\n",
       "2         5000000\n",
       "4          100000\n",
       "5           50000\n",
       "           ...   \n",
       "10834         500\n",
       "10836        5000\n",
       "10837         100\n",
       "10839        1000\n",
       "10840    10000000\n",
       "Name: Installs, Length: 8496, dtype: int32"
      ]
     },
     "execution_count": 56,
     "metadata": {},
     "output_type": "execute_result"
    }
   ],
   "source": [
    "#) apply log transformation to Installs\n",
    "installsskew = np.log1p(inp1['Installs'])\n",
    "inp1['Installs'] "
   ]
  },
  {
   "cell_type": "code",
   "execution_count": 57,
   "id": "8590499a",
   "metadata": {},
   "outputs": [
    {
     "data": {
      "text/plain": [
       "-0.5097286542754812"
      ]
     },
     "execution_count": 57,
     "metadata": {},
     "output_type": "execute_result"
    }
   ],
   "source": [
    "installsskew.skew()"
   ]
  },
  {
   "cell_type": "code",
   "execution_count": 58,
   "id": "e9f602ae",
   "metadata": {},
   "outputs": [
    {
     "data": {
      "text/html": [
       "<div>\n",
       "<style scoped>\n",
       "    .dataframe tbody tr th:only-of-type {\n",
       "        vertical-align: middle;\n",
       "    }\n",
       "\n",
       "    .dataframe tbody tr th {\n",
       "        vertical-align: top;\n",
       "    }\n",
       "\n",
       "    .dataframe thead th {\n",
       "        text-align: right;\n",
       "    }\n",
       "</style>\n",
       "<table border=\"1\" class=\"dataframe\">\n",
       "  <thead>\n",
       "    <tr style=\"text-align: right;\">\n",
       "      <th></th>\n",
       "      <th>App</th>\n",
       "      <th>Category</th>\n",
       "      <th>Rating</th>\n",
       "      <th>Reviews</th>\n",
       "      <th>Size</th>\n",
       "      <th>Installs</th>\n",
       "      <th>Type</th>\n",
       "      <th>Price</th>\n",
       "      <th>Content Rating</th>\n",
       "      <th>Genres</th>\n",
       "      <th>Last Updated</th>\n",
       "      <th>Current Ver</th>\n",
       "      <th>Android Ver</th>\n",
       "    </tr>\n",
       "  </thead>\n",
       "  <tbody>\n",
       "    <tr>\n",
       "      <th>0</th>\n",
       "      <td>Photo Editor &amp; Candy Camera &amp; Grid &amp; ScrapBook</td>\n",
       "      <td>ART_AND_DESIGN</td>\n",
       "      <td>4.1</td>\n",
       "      <td>5.075174</td>\n",
       "      <td>19000.0</td>\n",
       "      <td>10000</td>\n",
       "      <td>Free</td>\n",
       "      <td>0</td>\n",
       "      <td>Everyone</td>\n",
       "      <td>Art &amp; Design</td>\n",
       "      <td>January 7, 2018</td>\n",
       "      <td>1.0.0</td>\n",
       "      <td>4.0.3 and up</td>\n",
       "    </tr>\n",
       "    <tr>\n",
       "      <th>1</th>\n",
       "      <td>Coloring book moana</td>\n",
       "      <td>ART_AND_DESIGN</td>\n",
       "      <td>3.9</td>\n",
       "      <td>6.875232</td>\n",
       "      <td>14000.0</td>\n",
       "      <td>500000</td>\n",
       "      <td>Free</td>\n",
       "      <td>0</td>\n",
       "      <td>Everyone</td>\n",
       "      <td>Art &amp; Design;Pretend Play</td>\n",
       "      <td>January 15, 2018</td>\n",
       "      <td>2.0.0</td>\n",
       "      <td>4.0.3 and up</td>\n",
       "    </tr>\n",
       "    <tr>\n",
       "      <th>2</th>\n",
       "      <td>U Launcher Lite – FREE Live Cool Themes, Hide ...</td>\n",
       "      <td>ART_AND_DESIGN</td>\n",
       "      <td>4.7</td>\n",
       "      <td>11.379520</td>\n",
       "      <td>8700.0</td>\n",
       "      <td>5000000</td>\n",
       "      <td>Free</td>\n",
       "      <td>0</td>\n",
       "      <td>Everyone</td>\n",
       "      <td>Art &amp; Design</td>\n",
       "      <td>August 1, 2018</td>\n",
       "      <td>1.2.4</td>\n",
       "      <td>4.0.3 and up</td>\n",
       "    </tr>\n",
       "    <tr>\n",
       "      <th>4</th>\n",
       "      <td>Pixel Draw - Number Art Coloring Book</td>\n",
       "      <td>ART_AND_DESIGN</td>\n",
       "      <td>4.3</td>\n",
       "      <td>6.875232</td>\n",
       "      <td>2800.0</td>\n",
       "      <td>100000</td>\n",
       "      <td>Free</td>\n",
       "      <td>0</td>\n",
       "      <td>Everyone</td>\n",
       "      <td>Art &amp; Design;Creativity</td>\n",
       "      <td>June 20, 2018</td>\n",
       "      <td>1.1</td>\n",
       "      <td>4.4 and up</td>\n",
       "    </tr>\n",
       "    <tr>\n",
       "      <th>5</th>\n",
       "      <td>Paper flowers instructions</td>\n",
       "      <td>ART_AND_DESIGN</td>\n",
       "      <td>4.4</td>\n",
       "      <td>5.123964</td>\n",
       "      <td>5600.0</td>\n",
       "      <td>50000</td>\n",
       "      <td>Free</td>\n",
       "      <td>0</td>\n",
       "      <td>Everyone</td>\n",
       "      <td>Art &amp; Design</td>\n",
       "      <td>March 26, 2017</td>\n",
       "      <td>1.0</td>\n",
       "      <td>2.3 and up</td>\n",
       "    </tr>\n",
       "  </tbody>\n",
       "</table>\n",
       "</div>"
      ],
      "text/plain": [
       "                                                 App        Category  Rating  \\\n",
       "0     Photo Editor & Candy Camera & Grid & ScrapBook  ART_AND_DESIGN     4.1   \n",
       "1                                Coloring book moana  ART_AND_DESIGN     3.9   \n",
       "2  U Launcher Lite – FREE Live Cool Themes, Hide ...  ART_AND_DESIGN     4.7   \n",
       "4              Pixel Draw - Number Art Coloring Book  ART_AND_DESIGN     4.3   \n",
       "5                         Paper flowers instructions  ART_AND_DESIGN     4.4   \n",
       "\n",
       "     Reviews     Size  Installs  Type  Price Content Rating  \\\n",
       "0   5.075174  19000.0     10000  Free      0       Everyone   \n",
       "1   6.875232  14000.0    500000  Free      0       Everyone   \n",
       "2  11.379520   8700.0   5000000  Free      0       Everyone   \n",
       "4   6.875232   2800.0    100000  Free      0       Everyone   \n",
       "5   5.123964   5600.0     50000  Free      0       Everyone   \n",
       "\n",
       "                      Genres      Last Updated Current Ver   Android Ver  \n",
       "0               Art & Design   January 7, 2018       1.0.0  4.0.3 and up  \n",
       "1  Art & Design;Pretend Play  January 15, 2018       2.0.0  4.0.3 and up  \n",
       "2               Art & Design    August 1, 2018       1.2.4  4.0.3 and up  \n",
       "4    Art & Design;Creativity     June 20, 2018         1.1    4.4 and up  \n",
       "5               Art & Design    March 26, 2017         1.0    2.3 and up  "
      ]
     },
     "execution_count": 58,
     "metadata": {},
     "output_type": "execute_result"
    }
   ],
   "source": [
    "inp1.head()"
   ]
  },
  {
   "cell_type": "code",
   "execution_count": 59,
   "id": "3ee54a1d",
   "metadata": {},
   "outputs": [],
   "source": [
    "#Dropping the columns- App, Last Updated, Current Ver, Type, & Andriod Ver as these won't be useful for our model\n",
    "inp1.drop(['App','Last Updated','Current Ver','Android Ver','Type'], axis= 1, inplace = True)"
   ]
  },
  {
   "cell_type": "code",
   "execution_count": 60,
   "id": "8660533e",
   "metadata": {},
   "outputs": [
    {
     "data": {
      "text/html": [
       "<div>\n",
       "<style scoped>\n",
       "    .dataframe tbody tr th:only-of-type {\n",
       "        vertical-align: middle;\n",
       "    }\n",
       "\n",
       "    .dataframe tbody tr th {\n",
       "        vertical-align: top;\n",
       "    }\n",
       "\n",
       "    .dataframe thead th {\n",
       "        text-align: right;\n",
       "    }\n",
       "</style>\n",
       "<table border=\"1\" class=\"dataframe\">\n",
       "  <thead>\n",
       "    <tr style=\"text-align: right;\">\n",
       "      <th></th>\n",
       "      <th>Category</th>\n",
       "      <th>Rating</th>\n",
       "      <th>Reviews</th>\n",
       "      <th>Size</th>\n",
       "      <th>Installs</th>\n",
       "      <th>Price</th>\n",
       "      <th>Content Rating</th>\n",
       "      <th>Genres</th>\n",
       "    </tr>\n",
       "  </thead>\n",
       "  <tbody>\n",
       "    <tr>\n",
       "      <th>0</th>\n",
       "      <td>ART_AND_DESIGN</td>\n",
       "      <td>4.1</td>\n",
       "      <td>5.075174</td>\n",
       "      <td>19000.0</td>\n",
       "      <td>10000</td>\n",
       "      <td>0</td>\n",
       "      <td>Everyone</td>\n",
       "      <td>Art &amp; Design</td>\n",
       "    </tr>\n",
       "    <tr>\n",
       "      <th>1</th>\n",
       "      <td>ART_AND_DESIGN</td>\n",
       "      <td>3.9</td>\n",
       "      <td>6.875232</td>\n",
       "      <td>14000.0</td>\n",
       "      <td>500000</td>\n",
       "      <td>0</td>\n",
       "      <td>Everyone</td>\n",
       "      <td>Art &amp; Design;Pretend Play</td>\n",
       "    </tr>\n",
       "    <tr>\n",
       "      <th>2</th>\n",
       "      <td>ART_AND_DESIGN</td>\n",
       "      <td>4.7</td>\n",
       "      <td>11.379520</td>\n",
       "      <td>8700.0</td>\n",
       "      <td>5000000</td>\n",
       "      <td>0</td>\n",
       "      <td>Everyone</td>\n",
       "      <td>Art &amp; Design</td>\n",
       "    </tr>\n",
       "    <tr>\n",
       "      <th>4</th>\n",
       "      <td>ART_AND_DESIGN</td>\n",
       "      <td>4.3</td>\n",
       "      <td>6.875232</td>\n",
       "      <td>2800.0</td>\n",
       "      <td>100000</td>\n",
       "      <td>0</td>\n",
       "      <td>Everyone</td>\n",
       "      <td>Art &amp; Design;Creativity</td>\n",
       "    </tr>\n",
       "    <tr>\n",
       "      <th>5</th>\n",
       "      <td>ART_AND_DESIGN</td>\n",
       "      <td>4.4</td>\n",
       "      <td>5.123964</td>\n",
       "      <td>5600.0</td>\n",
       "      <td>50000</td>\n",
       "      <td>0</td>\n",
       "      <td>Everyone</td>\n",
       "      <td>Art &amp; Design</td>\n",
       "    </tr>\n",
       "  </tbody>\n",
       "</table>\n",
       "</div>"
      ],
      "text/plain": [
       "         Category  Rating    Reviews     Size  Installs  Price Content Rating  \\\n",
       "0  ART_AND_DESIGN     4.1   5.075174  19000.0     10000      0       Everyone   \n",
       "1  ART_AND_DESIGN     3.9   6.875232  14000.0    500000      0       Everyone   \n",
       "2  ART_AND_DESIGN     4.7  11.379520   8700.0   5000000      0       Everyone   \n",
       "4  ART_AND_DESIGN     4.3   6.875232   2800.0    100000      0       Everyone   \n",
       "5  ART_AND_DESIGN     4.4   5.123964   5600.0     50000      0       Everyone   \n",
       "\n",
       "                      Genres  \n",
       "0               Art & Design  \n",
       "1  Art & Design;Pretend Play  \n",
       "2               Art & Design  \n",
       "4    Art & Design;Creativity  \n",
       "5               Art & Design  "
      ]
     },
     "execution_count": 60,
     "metadata": {},
     "output_type": "execute_result"
    }
   ],
   "source": [
    "inp1.head()"
   ]
  },
  {
   "cell_type": "code",
   "execution_count": 61,
   "id": "fb3530a8",
   "metadata": {},
   "outputs": [
    {
     "data": {
      "text/plain": [
       "(8496, 8)"
      ]
     },
     "execution_count": 61,
     "metadata": {},
     "output_type": "execute_result"
    }
   ],
   "source": [
    "inp1.shape"
   ]
  },
  {
   "cell_type": "code",
   "execution_count": 62,
   "id": "ae144e07",
   "metadata": {},
   "outputs": [],
   "source": [
    "# create a copy of dataframe\n",
    "inp2 = inp1"
   ]
  },
  {
   "cell_type": "code",
   "execution_count": 63,
   "id": "ae5b57bd",
   "metadata": {},
   "outputs": [
    {
     "data": {
      "text/html": [
       "<div>\n",
       "<style scoped>\n",
       "    .dataframe tbody tr th:only-of-type {\n",
       "        vertical-align: middle;\n",
       "    }\n",
       "\n",
       "    .dataframe tbody tr th {\n",
       "        vertical-align: top;\n",
       "    }\n",
       "\n",
       "    .dataframe thead th {\n",
       "        text-align: right;\n",
       "    }\n",
       "</style>\n",
       "<table border=\"1\" class=\"dataframe\">\n",
       "  <thead>\n",
       "    <tr style=\"text-align: right;\">\n",
       "      <th></th>\n",
       "      <th>Category</th>\n",
       "      <th>Rating</th>\n",
       "      <th>Reviews</th>\n",
       "      <th>Size</th>\n",
       "      <th>Installs</th>\n",
       "      <th>Price</th>\n",
       "      <th>Content Rating</th>\n",
       "      <th>Genres</th>\n",
       "    </tr>\n",
       "  </thead>\n",
       "  <tbody>\n",
       "    <tr>\n",
       "      <th>0</th>\n",
       "      <td>ART_AND_DESIGN</td>\n",
       "      <td>4.1</td>\n",
       "      <td>5.075174</td>\n",
       "      <td>19000.0</td>\n",
       "      <td>10000</td>\n",
       "      <td>0</td>\n",
       "      <td>Everyone</td>\n",
       "      <td>Art &amp; Design</td>\n",
       "    </tr>\n",
       "    <tr>\n",
       "      <th>1</th>\n",
       "      <td>ART_AND_DESIGN</td>\n",
       "      <td>3.9</td>\n",
       "      <td>6.875232</td>\n",
       "      <td>14000.0</td>\n",
       "      <td>500000</td>\n",
       "      <td>0</td>\n",
       "      <td>Everyone</td>\n",
       "      <td>Art &amp; Design;Pretend Play</td>\n",
       "    </tr>\n",
       "    <tr>\n",
       "      <th>2</th>\n",
       "      <td>ART_AND_DESIGN</td>\n",
       "      <td>4.7</td>\n",
       "      <td>11.379520</td>\n",
       "      <td>8700.0</td>\n",
       "      <td>5000000</td>\n",
       "      <td>0</td>\n",
       "      <td>Everyone</td>\n",
       "      <td>Art &amp; Design</td>\n",
       "    </tr>\n",
       "    <tr>\n",
       "      <th>4</th>\n",
       "      <td>ART_AND_DESIGN</td>\n",
       "      <td>4.3</td>\n",
       "      <td>6.875232</td>\n",
       "      <td>2800.0</td>\n",
       "      <td>100000</td>\n",
       "      <td>0</td>\n",
       "      <td>Everyone</td>\n",
       "      <td>Art &amp; Design;Creativity</td>\n",
       "    </tr>\n",
       "    <tr>\n",
       "      <th>5</th>\n",
       "      <td>ART_AND_DESIGN</td>\n",
       "      <td>4.4</td>\n",
       "      <td>5.123964</td>\n",
       "      <td>5600.0</td>\n",
       "      <td>50000</td>\n",
       "      <td>0</td>\n",
       "      <td>Everyone</td>\n",
       "      <td>Art &amp; Design</td>\n",
       "    </tr>\n",
       "  </tbody>\n",
       "</table>\n",
       "</div>"
      ],
      "text/plain": [
       "         Category  Rating    Reviews     Size  Installs  Price Content Rating  \\\n",
       "0  ART_AND_DESIGN     4.1   5.075174  19000.0     10000      0       Everyone   \n",
       "1  ART_AND_DESIGN     3.9   6.875232  14000.0    500000      0       Everyone   \n",
       "2  ART_AND_DESIGN     4.7  11.379520   8700.0   5000000      0       Everyone   \n",
       "4  ART_AND_DESIGN     4.3   6.875232   2800.0    100000      0       Everyone   \n",
       "5  ART_AND_DESIGN     4.4   5.123964   5600.0     50000      0       Everyone   \n",
       "\n",
       "                      Genres  \n",
       "0               Art & Design  \n",
       "1  Art & Design;Pretend Play  \n",
       "2               Art & Design  \n",
       "4    Art & Design;Creativity  \n",
       "5               Art & Design  "
      ]
     },
     "execution_count": 63,
     "metadata": {},
     "output_type": "execute_result"
    }
   ],
   "source": [
    "inp2.head()"
   ]
  },
  {
   "cell_type": "code",
   "execution_count": 64,
   "id": "1b17a8e2",
   "metadata": {},
   "outputs": [
    {
     "data": {
      "text/plain": [
       "array(['ART_AND_DESIGN', 'AUTO_AND_VEHICLES', 'BEAUTY',\n",
       "       'BOOKS_AND_REFERENCE', 'BUSINESS', 'COMICS', 'COMMUNICATION',\n",
       "       'DATING', 'EDUCATION', 'ENTERTAINMENT', 'EVENTS', 'FINANCE',\n",
       "       'FOOD_AND_DRINK', 'HEALTH_AND_FITNESS', 'HOUSE_AND_HOME',\n",
       "       'LIBRARIES_AND_DEMO', 'LIFESTYLE', 'GAME', 'FAMILY', 'MEDICAL',\n",
       "       'SOCIAL', 'SHOPPING', 'PHOTOGRAPHY', 'SPORTS', 'TRAVEL_AND_LOCAL',\n",
       "       'TOOLS', 'PERSONALIZATION', 'PRODUCTIVITY', 'PARENTING', 'WEATHER',\n",
       "       'VIDEO_PLAYERS', 'NEWS_AND_MAGAZINES', 'MAPS_AND_NAVIGATION'],\n",
       "      dtype=object)"
      ]
     },
     "execution_count": 64,
     "metadata": {},
     "output_type": "execute_result"
    }
   ],
   "source": [
    "#get unique values in column category\n",
    "inp2['Category'].unique()"
   ]
  },
  {
   "cell_type": "code",
   "execution_count": 65,
   "id": "0f2ff68f",
   "metadata": {},
   "outputs": [
    {
     "data": {
      "text/html": [
       "<div>\n",
       "<style scoped>\n",
       "    .dataframe tbody tr th:only-of-type {\n",
       "        vertical-align: middle;\n",
       "    }\n",
       "\n",
       "    .dataframe tbody tr th {\n",
       "        vertical-align: top;\n",
       "    }\n",
       "\n",
       "    .dataframe thead th {\n",
       "        text-align: right;\n",
       "    }\n",
       "</style>\n",
       "<table border=\"1\" class=\"dataframe\">\n",
       "  <thead>\n",
       "    <tr style=\"text-align: right;\">\n",
       "      <th></th>\n",
       "      <th>Rating</th>\n",
       "      <th>Reviews</th>\n",
       "      <th>Size</th>\n",
       "      <th>Installs</th>\n",
       "      <th>Price</th>\n",
       "      <th>Content Rating</th>\n",
       "      <th>Genres</th>\n",
       "      <th>Category_ART_AND_DESIGN</th>\n",
       "      <th>Category_AUTO_AND_VEHICLES</th>\n",
       "      <th>Category_BEAUTY</th>\n",
       "      <th>...</th>\n",
       "      <th>Category_PERSONALIZATION</th>\n",
       "      <th>Category_PHOTOGRAPHY</th>\n",
       "      <th>Category_PRODUCTIVITY</th>\n",
       "      <th>Category_SHOPPING</th>\n",
       "      <th>Category_SOCIAL</th>\n",
       "      <th>Category_SPORTS</th>\n",
       "      <th>Category_TOOLS</th>\n",
       "      <th>Category_TRAVEL_AND_LOCAL</th>\n",
       "      <th>Category_VIDEO_PLAYERS</th>\n",
       "      <th>Category_WEATHER</th>\n",
       "    </tr>\n",
       "  </thead>\n",
       "  <tbody>\n",
       "    <tr>\n",
       "      <th>0</th>\n",
       "      <td>4.1</td>\n",
       "      <td>5.075174</td>\n",
       "      <td>19000.0</td>\n",
       "      <td>10000</td>\n",
       "      <td>0</td>\n",
       "      <td>Everyone</td>\n",
       "      <td>Art &amp; Design</td>\n",
       "      <td>1</td>\n",
       "      <td>0</td>\n",
       "      <td>0</td>\n",
       "      <td>...</td>\n",
       "      <td>0</td>\n",
       "      <td>0</td>\n",
       "      <td>0</td>\n",
       "      <td>0</td>\n",
       "      <td>0</td>\n",
       "      <td>0</td>\n",
       "      <td>0</td>\n",
       "      <td>0</td>\n",
       "      <td>0</td>\n",
       "      <td>0</td>\n",
       "    </tr>\n",
       "    <tr>\n",
       "      <th>1</th>\n",
       "      <td>3.9</td>\n",
       "      <td>6.875232</td>\n",
       "      <td>14000.0</td>\n",
       "      <td>500000</td>\n",
       "      <td>0</td>\n",
       "      <td>Everyone</td>\n",
       "      <td>Art &amp; Design;Pretend Play</td>\n",
       "      <td>1</td>\n",
       "      <td>0</td>\n",
       "      <td>0</td>\n",
       "      <td>...</td>\n",
       "      <td>0</td>\n",
       "      <td>0</td>\n",
       "      <td>0</td>\n",
       "      <td>0</td>\n",
       "      <td>0</td>\n",
       "      <td>0</td>\n",
       "      <td>0</td>\n",
       "      <td>0</td>\n",
       "      <td>0</td>\n",
       "      <td>0</td>\n",
       "    </tr>\n",
       "    <tr>\n",
       "      <th>2</th>\n",
       "      <td>4.7</td>\n",
       "      <td>11.379520</td>\n",
       "      <td>8700.0</td>\n",
       "      <td>5000000</td>\n",
       "      <td>0</td>\n",
       "      <td>Everyone</td>\n",
       "      <td>Art &amp; Design</td>\n",
       "      <td>1</td>\n",
       "      <td>0</td>\n",
       "      <td>0</td>\n",
       "      <td>...</td>\n",
       "      <td>0</td>\n",
       "      <td>0</td>\n",
       "      <td>0</td>\n",
       "      <td>0</td>\n",
       "      <td>0</td>\n",
       "      <td>0</td>\n",
       "      <td>0</td>\n",
       "      <td>0</td>\n",
       "      <td>0</td>\n",
       "      <td>0</td>\n",
       "    </tr>\n",
       "    <tr>\n",
       "      <th>4</th>\n",
       "      <td>4.3</td>\n",
       "      <td>6.875232</td>\n",
       "      <td>2800.0</td>\n",
       "      <td>100000</td>\n",
       "      <td>0</td>\n",
       "      <td>Everyone</td>\n",
       "      <td>Art &amp; Design;Creativity</td>\n",
       "      <td>1</td>\n",
       "      <td>0</td>\n",
       "      <td>0</td>\n",
       "      <td>...</td>\n",
       "      <td>0</td>\n",
       "      <td>0</td>\n",
       "      <td>0</td>\n",
       "      <td>0</td>\n",
       "      <td>0</td>\n",
       "      <td>0</td>\n",
       "      <td>0</td>\n",
       "      <td>0</td>\n",
       "      <td>0</td>\n",
       "      <td>0</td>\n",
       "    </tr>\n",
       "    <tr>\n",
       "      <th>5</th>\n",
       "      <td>4.4</td>\n",
       "      <td>5.123964</td>\n",
       "      <td>5600.0</td>\n",
       "      <td>50000</td>\n",
       "      <td>0</td>\n",
       "      <td>Everyone</td>\n",
       "      <td>Art &amp; Design</td>\n",
       "      <td>1</td>\n",
       "      <td>0</td>\n",
       "      <td>0</td>\n",
       "      <td>...</td>\n",
       "      <td>0</td>\n",
       "      <td>0</td>\n",
       "      <td>0</td>\n",
       "      <td>0</td>\n",
       "      <td>0</td>\n",
       "      <td>0</td>\n",
       "      <td>0</td>\n",
       "      <td>0</td>\n",
       "      <td>0</td>\n",
       "      <td>0</td>\n",
       "    </tr>\n",
       "  </tbody>\n",
       "</table>\n",
       "<p>5 rows × 40 columns</p>\n",
       "</div>"
      ],
      "text/plain": [
       "   Rating    Reviews     Size  Installs  Price Content Rating  \\\n",
       "0     4.1   5.075174  19000.0     10000      0       Everyone   \n",
       "1     3.9   6.875232  14000.0    500000      0       Everyone   \n",
       "2     4.7  11.379520   8700.0   5000000      0       Everyone   \n",
       "4     4.3   6.875232   2800.0    100000      0       Everyone   \n",
       "5     4.4   5.123964   5600.0     50000      0       Everyone   \n",
       "\n",
       "                      Genres  Category_ART_AND_DESIGN  \\\n",
       "0               Art & Design                        1   \n",
       "1  Art & Design;Pretend Play                        1   \n",
       "2               Art & Design                        1   \n",
       "4    Art & Design;Creativity                        1   \n",
       "5               Art & Design                        1   \n",
       "\n",
       "   Category_AUTO_AND_VEHICLES  Category_BEAUTY  ...  Category_PERSONALIZATION  \\\n",
       "0                           0                0  ...                         0   \n",
       "1                           0                0  ...                         0   \n",
       "2                           0                0  ...                         0   \n",
       "4                           0                0  ...                         0   \n",
       "5                           0                0  ...                         0   \n",
       "\n",
       "   Category_PHOTOGRAPHY  Category_PRODUCTIVITY  Category_SHOPPING  \\\n",
       "0                     0                      0                  0   \n",
       "1                     0                      0                  0   \n",
       "2                     0                      0                  0   \n",
       "4                     0                      0                  0   \n",
       "5                     0                      0                  0   \n",
       "\n",
       "   Category_SOCIAL  Category_SPORTS  Category_TOOLS  \\\n",
       "0                0                0               0   \n",
       "1                0                0               0   \n",
       "2                0                0               0   \n",
       "4                0                0               0   \n",
       "5                0                0               0   \n",
       "\n",
       "   Category_TRAVEL_AND_LOCAL  Category_VIDEO_PLAYERS  Category_WEATHER  \n",
       "0                          0                       0                 0  \n",
       "1                          0                       0                 0  \n",
       "2                          0                       0                 0  \n",
       "4                          0                       0                 0  \n",
       "5                          0                       0                 0  \n",
       "\n",
       "[5 rows x 40 columns]"
      ]
     },
     "execution_count": 65,
     "metadata": {},
     "output_type": "execute_result"
    }
   ],
   "source": [
    "inp2.Category = pd.Categorical(inp2.Category)\n",
    "\n",
    "x = inp2[['Category']]\n",
    "del inp2['Category']\n",
    "\n",
    "dummies = pd.get_dummies(x, prefix = 'Category')\n",
    "inp2 = pd.concat([inp2,dummies], axis=1)\n",
    "inp2.head()"
   ]
  },
  {
   "cell_type": "code",
   "execution_count": 66,
   "id": "24b6f7c6",
   "metadata": {},
   "outputs": [
    {
     "data": {
      "text/plain": [
       "array(['Art & Design', 'Art & Design;Pretend Play',\n",
       "       'Art & Design;Creativity', 'Auto & Vehicles', 'Beauty',\n",
       "       'Books & Reference', 'Business', 'Comics', 'Comics;Creativity',\n",
       "       'Communication', 'Dating', 'Education', 'Education;Creativity',\n",
       "       'Education;Education', 'Education;Music & Video',\n",
       "       'Education;Action & Adventure', 'Education;Pretend Play',\n",
       "       'Education;Brain Games', 'Entertainment',\n",
       "       'Entertainment;Brain Games', 'Entertainment;Creativity',\n",
       "       'Entertainment;Music & Video', 'Events', 'Finance', 'Food & Drink',\n",
       "       'Health & Fitness', 'House & Home', 'Libraries & Demo',\n",
       "       'Lifestyle', 'Lifestyle;Pretend Play', 'Card', 'Casual', 'Puzzle',\n",
       "       'Action', 'Arcade', 'Word', 'Racing', 'Casual;Creativity',\n",
       "       'Sports', 'Board', 'Simulation', 'Role Playing', 'Adventure',\n",
       "       'Strategy', 'Simulation;Education', 'Action;Action & Adventure',\n",
       "       'Trivia', 'Casual;Brain Games', 'Simulation;Action & Adventure',\n",
       "       'Educational;Creativity', 'Puzzle;Brain Games',\n",
       "       'Educational;Education', 'Card;Brain Games',\n",
       "       'Educational;Brain Games', 'Educational;Pretend Play',\n",
       "       'Casual;Action & Adventure', 'Entertainment;Education',\n",
       "       'Casual;Education', 'Casual;Pretend Play', 'Music;Music & Video',\n",
       "       'Racing;Action & Adventure', 'Arcade;Pretend Play',\n",
       "       'Adventure;Action & Adventure', 'Role Playing;Action & Adventure',\n",
       "       'Simulation;Pretend Play', 'Puzzle;Creativity',\n",
       "       'Sports;Action & Adventure', 'Educational;Action & Adventure',\n",
       "       'Arcade;Action & Adventure', 'Entertainment;Action & Adventure',\n",
       "       'Puzzle;Action & Adventure', 'Strategy;Action & Adventure',\n",
       "       'Music & Audio;Music & Video', 'Health & Fitness;Education',\n",
       "       'Adventure;Education', 'Board;Brain Games',\n",
       "       'Board;Action & Adventure', 'Board;Pretend Play',\n",
       "       'Casual;Music & Video', 'Role Playing;Pretend Play',\n",
       "       'Entertainment;Pretend Play', 'Video Players & Editors;Creativity',\n",
       "       'Card;Action & Adventure', 'Medical', 'Social', 'Shopping',\n",
       "       'Photography', 'Travel & Local',\n",
       "       'Travel & Local;Action & Adventure', 'Tools', 'Tools;Education',\n",
       "       'Personalization', 'Productivity', 'Parenting',\n",
       "       'Parenting;Music & Video', 'Parenting;Brain Games',\n",
       "       'Parenting;Education', 'Weather', 'Video Players & Editors',\n",
       "       'Video Players & Editors;Music & Video', 'News & Magazines',\n",
       "       'Maps & Navigation', 'Health & Fitness;Action & Adventure',\n",
       "       'Music', 'Educational', 'Casino', 'Adventure;Brain Games',\n",
       "       'Lifestyle;Education', 'Books & Reference;Education',\n",
       "       'Puzzle;Education', 'Role Playing;Brain Games',\n",
       "       'Strategy;Education', 'Racing;Pretend Play',\n",
       "       'Communication;Creativity', 'Strategy;Creativity'], dtype=object)"
      ]
     },
     "execution_count": 66,
     "metadata": {},
     "output_type": "execute_result"
    }
   ],
   "source": [
    "#get unique values in Column Genres\n",
    "inp2[\"Genres\"].unique()"
   ]
  },
  {
   "cell_type": "markdown",
   "id": "b39d18d3",
   "metadata": {},
   "source": [
    "#There are too many categories under Genres. Hence, we will try to reduce some categories which have very few samples under them and put them under one new common category i.e. \"Other\""
   ]
  },
  {
   "cell_type": "code",
   "execution_count": 67,
   "id": "6428dad3",
   "metadata": {},
   "outputs": [],
   "source": [
    "#Create an empty list\n",
    "lists = []\n",
    "# We need to reduce some categories that dont have any impact on making model\n",
    "#Get the total genres count and genres count less than 20 append those into the list\n",
    "for i in inp2.Genres.value_counts().index:\n",
    "    if inp2.Genres.value_counts()[i]<20:\n",
    "        lists.append(i)\n",
    "#changing the genres which are in the list to other\n",
    "inp2.Genres = ['Other' if i in lists else i for i in inp2.Genres]"
   ]
  },
  {
   "cell_type": "code",
   "execution_count": 68,
   "id": "d71f5078",
   "metadata": {},
   "outputs": [
    {
     "data": {
      "text/plain": [
       "array(['Art & Design', 'Other', 'Auto & Vehicles', 'Beauty',\n",
       "       'Books & Reference', 'Business', 'Comics', 'Communication',\n",
       "       'Dating', 'Education', 'Education;Education',\n",
       "       'Education;Pretend Play', 'Entertainment',\n",
       "       'Entertainment;Music & Video', 'Events', 'Finance', 'Food & Drink',\n",
       "       'Health & Fitness', 'House & Home', 'Libraries & Demo',\n",
       "       'Lifestyle', 'Card', 'Casual', 'Puzzle', 'Action', 'Arcade',\n",
       "       'Word', 'Racing', 'Sports', 'Board', 'Simulation', 'Role Playing',\n",
       "       'Adventure', 'Strategy', 'Trivia', 'Educational;Education',\n",
       "       'Casual;Pretend Play', 'Medical', 'Social', 'Shopping',\n",
       "       'Photography', 'Travel & Local', 'Tools', 'Personalization',\n",
       "       'Productivity', 'Parenting', 'Weather', 'Video Players & Editors',\n",
       "       'News & Magazines', 'Maps & Navigation', 'Educational', 'Casino'],\n",
       "      dtype=object)"
      ]
     },
     "execution_count": 68,
     "metadata": {},
     "output_type": "execute_result"
    }
   ],
   "source": [
    "inp2[\"Genres\"].unique()"
   ]
  },
  {
   "cell_type": "code",
   "execution_count": 69,
   "id": "2debe272",
   "metadata": {},
   "outputs": [],
   "source": [
    "#Storing the genres column into x varible and delete the genres col from dataframe inp2\n",
    "#And concat the encoded cols to the dataframe inp2\n",
    "inp2.Genres = pd.Categorical(inp2['Genres'])\n",
    "x = inp2[[\"Genres\"]]\n",
    "del inp2['Genres']\n",
    "dummies = pd.get_dummies(x, prefix = 'Genres')\n",
    "inp2 = pd.concat([inp2,dummies], axis=1)"
   ]
  },
  {
   "cell_type": "code",
   "execution_count": 70,
   "id": "b1cce7fe",
   "metadata": {},
   "outputs": [
    {
     "data": {
      "text/html": [
       "<div>\n",
       "<style scoped>\n",
       "    .dataframe tbody tr th:only-of-type {\n",
       "        vertical-align: middle;\n",
       "    }\n",
       "\n",
       "    .dataframe tbody tr th {\n",
       "        vertical-align: top;\n",
       "    }\n",
       "\n",
       "    .dataframe thead th {\n",
       "        text-align: right;\n",
       "    }\n",
       "</style>\n",
       "<table border=\"1\" class=\"dataframe\">\n",
       "  <thead>\n",
       "    <tr style=\"text-align: right;\">\n",
       "      <th></th>\n",
       "      <th>Rating</th>\n",
       "      <th>Reviews</th>\n",
       "      <th>Size</th>\n",
       "      <th>Installs</th>\n",
       "      <th>Price</th>\n",
       "      <th>Content Rating</th>\n",
       "      <th>Category_ART_AND_DESIGN</th>\n",
       "      <th>Category_AUTO_AND_VEHICLES</th>\n",
       "      <th>Category_BEAUTY</th>\n",
       "      <th>Category_BOOKS_AND_REFERENCE</th>\n",
       "      <th>...</th>\n",
       "      <th>Genres_Simulation</th>\n",
       "      <th>Genres_Social</th>\n",
       "      <th>Genres_Sports</th>\n",
       "      <th>Genres_Strategy</th>\n",
       "      <th>Genres_Tools</th>\n",
       "      <th>Genres_Travel &amp; Local</th>\n",
       "      <th>Genres_Trivia</th>\n",
       "      <th>Genres_Video Players &amp; Editors</th>\n",
       "      <th>Genres_Weather</th>\n",
       "      <th>Genres_Word</th>\n",
       "    </tr>\n",
       "  </thead>\n",
       "  <tbody>\n",
       "    <tr>\n",
       "      <th>0</th>\n",
       "      <td>4.1</td>\n",
       "      <td>5.075174</td>\n",
       "      <td>19000.0</td>\n",
       "      <td>10000</td>\n",
       "      <td>0</td>\n",
       "      <td>Everyone</td>\n",
       "      <td>1</td>\n",
       "      <td>0</td>\n",
       "      <td>0</td>\n",
       "      <td>0</td>\n",
       "      <td>...</td>\n",
       "      <td>0</td>\n",
       "      <td>0</td>\n",
       "      <td>0</td>\n",
       "      <td>0</td>\n",
       "      <td>0</td>\n",
       "      <td>0</td>\n",
       "      <td>0</td>\n",
       "      <td>0</td>\n",
       "      <td>0</td>\n",
       "      <td>0</td>\n",
       "    </tr>\n",
       "    <tr>\n",
       "      <th>1</th>\n",
       "      <td>3.9</td>\n",
       "      <td>6.875232</td>\n",
       "      <td>14000.0</td>\n",
       "      <td>500000</td>\n",
       "      <td>0</td>\n",
       "      <td>Everyone</td>\n",
       "      <td>1</td>\n",
       "      <td>0</td>\n",
       "      <td>0</td>\n",
       "      <td>0</td>\n",
       "      <td>...</td>\n",
       "      <td>0</td>\n",
       "      <td>0</td>\n",
       "      <td>0</td>\n",
       "      <td>0</td>\n",
       "      <td>0</td>\n",
       "      <td>0</td>\n",
       "      <td>0</td>\n",
       "      <td>0</td>\n",
       "      <td>0</td>\n",
       "      <td>0</td>\n",
       "    </tr>\n",
       "    <tr>\n",
       "      <th>2</th>\n",
       "      <td>4.7</td>\n",
       "      <td>11.379520</td>\n",
       "      <td>8700.0</td>\n",
       "      <td>5000000</td>\n",
       "      <td>0</td>\n",
       "      <td>Everyone</td>\n",
       "      <td>1</td>\n",
       "      <td>0</td>\n",
       "      <td>0</td>\n",
       "      <td>0</td>\n",
       "      <td>...</td>\n",
       "      <td>0</td>\n",
       "      <td>0</td>\n",
       "      <td>0</td>\n",
       "      <td>0</td>\n",
       "      <td>0</td>\n",
       "      <td>0</td>\n",
       "      <td>0</td>\n",
       "      <td>0</td>\n",
       "      <td>0</td>\n",
       "      <td>0</td>\n",
       "    </tr>\n",
       "    <tr>\n",
       "      <th>4</th>\n",
       "      <td>4.3</td>\n",
       "      <td>6.875232</td>\n",
       "      <td>2800.0</td>\n",
       "      <td>100000</td>\n",
       "      <td>0</td>\n",
       "      <td>Everyone</td>\n",
       "      <td>1</td>\n",
       "      <td>0</td>\n",
       "      <td>0</td>\n",
       "      <td>0</td>\n",
       "      <td>...</td>\n",
       "      <td>0</td>\n",
       "      <td>0</td>\n",
       "      <td>0</td>\n",
       "      <td>0</td>\n",
       "      <td>0</td>\n",
       "      <td>0</td>\n",
       "      <td>0</td>\n",
       "      <td>0</td>\n",
       "      <td>0</td>\n",
       "      <td>0</td>\n",
       "    </tr>\n",
       "    <tr>\n",
       "      <th>5</th>\n",
       "      <td>4.4</td>\n",
       "      <td>5.123964</td>\n",
       "      <td>5600.0</td>\n",
       "      <td>50000</td>\n",
       "      <td>0</td>\n",
       "      <td>Everyone</td>\n",
       "      <td>1</td>\n",
       "      <td>0</td>\n",
       "      <td>0</td>\n",
       "      <td>0</td>\n",
       "      <td>...</td>\n",
       "      <td>0</td>\n",
       "      <td>0</td>\n",
       "      <td>0</td>\n",
       "      <td>0</td>\n",
       "      <td>0</td>\n",
       "      <td>0</td>\n",
       "      <td>0</td>\n",
       "      <td>0</td>\n",
       "      <td>0</td>\n",
       "      <td>0</td>\n",
       "    </tr>\n",
       "  </tbody>\n",
       "</table>\n",
       "<p>5 rows × 91 columns</p>\n",
       "</div>"
      ],
      "text/plain": [
       "   Rating    Reviews     Size  Installs  Price Content Rating  \\\n",
       "0     4.1   5.075174  19000.0     10000      0       Everyone   \n",
       "1     3.9   6.875232  14000.0    500000      0       Everyone   \n",
       "2     4.7  11.379520   8700.0   5000000      0       Everyone   \n",
       "4     4.3   6.875232   2800.0    100000      0       Everyone   \n",
       "5     4.4   5.123964   5600.0     50000      0       Everyone   \n",
       "\n",
       "   Category_ART_AND_DESIGN  Category_AUTO_AND_VEHICLES  Category_BEAUTY  \\\n",
       "0                        1                           0                0   \n",
       "1                        1                           0                0   \n",
       "2                        1                           0                0   \n",
       "4                        1                           0                0   \n",
       "5                        1                           0                0   \n",
       "\n",
       "   Category_BOOKS_AND_REFERENCE  ...  Genres_Simulation  Genres_Social  \\\n",
       "0                             0  ...                  0              0   \n",
       "1                             0  ...                  0              0   \n",
       "2                             0  ...                  0              0   \n",
       "4                             0  ...                  0              0   \n",
       "5                             0  ...                  0              0   \n",
       "\n",
       "   Genres_Sports  Genres_Strategy  Genres_Tools  Genres_Travel & Local  \\\n",
       "0              0                0             0                      0   \n",
       "1              0                0             0                      0   \n",
       "2              0                0             0                      0   \n",
       "4              0                0             0                      0   \n",
       "5              0                0             0                      0   \n",
       "\n",
       "   Genres_Trivia  Genres_Video Players & Editors  Genres_Weather  Genres_Word  \n",
       "0              0                               0               0            0  \n",
       "1              0                               0               0            0  \n",
       "2              0                               0               0            0  \n",
       "4              0                               0               0            0  \n",
       "5              0                               0               0            0  \n",
       "\n",
       "[5 rows x 91 columns]"
      ]
     },
     "execution_count": 70,
     "metadata": {},
     "output_type": "execute_result"
    }
   ],
   "source": [
    "inp2.head()"
   ]
  },
  {
   "cell_type": "code",
   "execution_count": 71,
   "id": "e37d9b49",
   "metadata": {},
   "outputs": [
    {
     "data": {
      "text/plain": [
       "(8496, 91)"
      ]
     },
     "execution_count": 71,
     "metadata": {},
     "output_type": "execute_result"
    }
   ],
   "source": [
    "inp2.shape"
   ]
  },
  {
   "cell_type": "code",
   "execution_count": 72,
   "id": "02a9c390",
   "metadata": {},
   "outputs": [
    {
     "data": {
      "text/plain": [
       "array(['Everyone', 'Teen', 'Everyone 10+', 'Mature 17+',\n",
       "       'Adults only 18+', 'Unrated'], dtype=object)"
      ]
     },
     "execution_count": 72,
     "metadata": {},
     "output_type": "execute_result"
    }
   ],
   "source": [
    "#getting the unique values\n",
    "inp2[\"Content Rating\"].unique()"
   ]
  },
  {
   "cell_type": "code",
   "execution_count": 73,
   "id": "f22f6032",
   "metadata": {},
   "outputs": [
    {
     "data": {
      "text/html": [
       "<div>\n",
       "<style scoped>\n",
       "    .dataframe tbody tr th:only-of-type {\n",
       "        vertical-align: middle;\n",
       "    }\n",
       "\n",
       "    .dataframe tbody tr th {\n",
       "        vertical-align: top;\n",
       "    }\n",
       "\n",
       "    .dataframe thead th {\n",
       "        text-align: right;\n",
       "    }\n",
       "</style>\n",
       "<table border=\"1\" class=\"dataframe\">\n",
       "  <thead>\n",
       "    <tr style=\"text-align: right;\">\n",
       "      <th></th>\n",
       "      <th>Rating</th>\n",
       "      <th>Reviews</th>\n",
       "      <th>Size</th>\n",
       "      <th>Installs</th>\n",
       "      <th>Price</th>\n",
       "      <th>Category_ART_AND_DESIGN</th>\n",
       "      <th>Category_AUTO_AND_VEHICLES</th>\n",
       "      <th>Category_BEAUTY</th>\n",
       "      <th>Category_BOOKS_AND_REFERENCE</th>\n",
       "      <th>Category_BUSINESS</th>\n",
       "      <th>...</th>\n",
       "      <th>Genres_Trivia</th>\n",
       "      <th>Genres_Video Players &amp; Editors</th>\n",
       "      <th>Genres_Weather</th>\n",
       "      <th>Genres_Word</th>\n",
       "      <th>Content Rating_Adults only 18+</th>\n",
       "      <th>Content Rating_Everyone</th>\n",
       "      <th>Content Rating_Everyone 10+</th>\n",
       "      <th>Content Rating_Mature 17+</th>\n",
       "      <th>Content Rating_Teen</th>\n",
       "      <th>Content Rating_Unrated</th>\n",
       "    </tr>\n",
       "  </thead>\n",
       "  <tbody>\n",
       "    <tr>\n",
       "      <th>0</th>\n",
       "      <td>4.1</td>\n",
       "      <td>5.075174</td>\n",
       "      <td>19000.0</td>\n",
       "      <td>10000</td>\n",
       "      <td>0</td>\n",
       "      <td>1</td>\n",
       "      <td>0</td>\n",
       "      <td>0</td>\n",
       "      <td>0</td>\n",
       "      <td>0</td>\n",
       "      <td>...</td>\n",
       "      <td>0</td>\n",
       "      <td>0</td>\n",
       "      <td>0</td>\n",
       "      <td>0</td>\n",
       "      <td>0</td>\n",
       "      <td>1</td>\n",
       "      <td>0</td>\n",
       "      <td>0</td>\n",
       "      <td>0</td>\n",
       "      <td>0</td>\n",
       "    </tr>\n",
       "    <tr>\n",
       "      <th>1</th>\n",
       "      <td>3.9</td>\n",
       "      <td>6.875232</td>\n",
       "      <td>14000.0</td>\n",
       "      <td>500000</td>\n",
       "      <td>0</td>\n",
       "      <td>1</td>\n",
       "      <td>0</td>\n",
       "      <td>0</td>\n",
       "      <td>0</td>\n",
       "      <td>0</td>\n",
       "      <td>...</td>\n",
       "      <td>0</td>\n",
       "      <td>0</td>\n",
       "      <td>0</td>\n",
       "      <td>0</td>\n",
       "      <td>0</td>\n",
       "      <td>1</td>\n",
       "      <td>0</td>\n",
       "      <td>0</td>\n",
       "      <td>0</td>\n",
       "      <td>0</td>\n",
       "    </tr>\n",
       "    <tr>\n",
       "      <th>2</th>\n",
       "      <td>4.7</td>\n",
       "      <td>11.379520</td>\n",
       "      <td>8700.0</td>\n",
       "      <td>5000000</td>\n",
       "      <td>0</td>\n",
       "      <td>1</td>\n",
       "      <td>0</td>\n",
       "      <td>0</td>\n",
       "      <td>0</td>\n",
       "      <td>0</td>\n",
       "      <td>...</td>\n",
       "      <td>0</td>\n",
       "      <td>0</td>\n",
       "      <td>0</td>\n",
       "      <td>0</td>\n",
       "      <td>0</td>\n",
       "      <td>1</td>\n",
       "      <td>0</td>\n",
       "      <td>0</td>\n",
       "      <td>0</td>\n",
       "      <td>0</td>\n",
       "    </tr>\n",
       "    <tr>\n",
       "      <th>4</th>\n",
       "      <td>4.3</td>\n",
       "      <td>6.875232</td>\n",
       "      <td>2800.0</td>\n",
       "      <td>100000</td>\n",
       "      <td>0</td>\n",
       "      <td>1</td>\n",
       "      <td>0</td>\n",
       "      <td>0</td>\n",
       "      <td>0</td>\n",
       "      <td>0</td>\n",
       "      <td>...</td>\n",
       "      <td>0</td>\n",
       "      <td>0</td>\n",
       "      <td>0</td>\n",
       "      <td>0</td>\n",
       "      <td>0</td>\n",
       "      <td>1</td>\n",
       "      <td>0</td>\n",
       "      <td>0</td>\n",
       "      <td>0</td>\n",
       "      <td>0</td>\n",
       "    </tr>\n",
       "    <tr>\n",
       "      <th>5</th>\n",
       "      <td>4.4</td>\n",
       "      <td>5.123964</td>\n",
       "      <td>5600.0</td>\n",
       "      <td>50000</td>\n",
       "      <td>0</td>\n",
       "      <td>1</td>\n",
       "      <td>0</td>\n",
       "      <td>0</td>\n",
       "      <td>0</td>\n",
       "      <td>0</td>\n",
       "      <td>...</td>\n",
       "      <td>0</td>\n",
       "      <td>0</td>\n",
       "      <td>0</td>\n",
       "      <td>0</td>\n",
       "      <td>0</td>\n",
       "      <td>1</td>\n",
       "      <td>0</td>\n",
       "      <td>0</td>\n",
       "      <td>0</td>\n",
       "      <td>0</td>\n",
       "    </tr>\n",
       "  </tbody>\n",
       "</table>\n",
       "<p>5 rows × 96 columns</p>\n",
       "</div>"
      ],
      "text/plain": [
       "   Rating    Reviews     Size  Installs  Price  Category_ART_AND_DESIGN  \\\n",
       "0     4.1   5.075174  19000.0     10000      0                        1   \n",
       "1     3.9   6.875232  14000.0    500000      0                        1   \n",
       "2     4.7  11.379520   8700.0   5000000      0                        1   \n",
       "4     4.3   6.875232   2800.0    100000      0                        1   \n",
       "5     4.4   5.123964   5600.0     50000      0                        1   \n",
       "\n",
       "   Category_AUTO_AND_VEHICLES  Category_BEAUTY  Category_BOOKS_AND_REFERENCE  \\\n",
       "0                           0                0                             0   \n",
       "1                           0                0                             0   \n",
       "2                           0                0                             0   \n",
       "4                           0                0                             0   \n",
       "5                           0                0                             0   \n",
       "\n",
       "   Category_BUSINESS  ...  Genres_Trivia  Genres_Video Players & Editors  \\\n",
       "0                  0  ...              0                               0   \n",
       "1                  0  ...              0                               0   \n",
       "2                  0  ...              0                               0   \n",
       "4                  0  ...              0                               0   \n",
       "5                  0  ...              0                               0   \n",
       "\n",
       "   Genres_Weather  Genres_Word  Content Rating_Adults only 18+  \\\n",
       "0               0            0                               0   \n",
       "1               0            0                               0   \n",
       "2               0            0                               0   \n",
       "4               0            0                               0   \n",
       "5               0            0                               0   \n",
       "\n",
       "   Content Rating_Everyone  Content Rating_Everyone 10+  \\\n",
       "0                        1                            0   \n",
       "1                        1                            0   \n",
       "2                        1                            0   \n",
       "4                        1                            0   \n",
       "5                        1                            0   \n",
       "\n",
       "   Content Rating_Mature 17+  Content Rating_Teen  Content Rating_Unrated  \n",
       "0                          0                    0                       0  \n",
       "1                          0                    0                       0  \n",
       "2                          0                    0                       0  \n",
       "4                          0                    0                       0  \n",
       "5                          0                    0                       0  \n",
       "\n",
       "[5 rows x 96 columns]"
      ]
     },
     "execution_count": 73,
     "metadata": {},
     "output_type": "execute_result"
    }
   ],
   "source": [
    "#Applying one hot encoding \n",
    "#Storing the Content Rating column into x varible and delete the Content Rating col from dataframe inp2\n",
    "#And concat the encoded cols to the dataframe inp2\n",
    "inp2['Content Rating'] = pd.Categorical(inp2['Content Rating'])\n",
    "\n",
    "x = inp2[['Content Rating']]\n",
    "del inp2['Content Rating']\n",
    "\n",
    "dummies = pd.get_dummies(x, prefix = 'Content Rating')\n",
    "inp2 = pd.concat([inp2,dummies], axis=1)\n",
    "inp2.head()"
   ]
  },
  {
   "cell_type": "code",
   "execution_count": 74,
   "id": "ec6b302d",
   "metadata": {},
   "outputs": [
    {
     "data": {
      "text/plain": [
       "(8496, 96)"
      ]
     },
     "execution_count": 74,
     "metadata": {},
     "output_type": "execute_result"
    }
   ],
   "source": [
    "inp2.shape"
   ]
  },
  {
   "cell_type": "markdown",
   "id": "b8edbf23",
   "metadata": {},
   "source": [
    "# 9) Train test split  and apply 70-30 split. Name the new dataframes df_train and df_test.\n",
    "# 10)Separate the dataframes into X_train, y_train, X_test, and y_test."
   ]
  },
  {
   "cell_type": "code",
   "execution_count": 75,
   "id": "675b949d",
   "metadata": {},
   "outputs": [],
   "source": [
    "#importing the neccessary libraries from sklearn to split the data and and for model building\n",
    "from sklearn.model_selection import train_test_split\n",
    "from sklearn.linear_model import LinearRegression\n",
    "from sklearn.metrics import mean_squared_error as mse\n",
    "from sklearn import metrics"
   ]
  },
  {
   "cell_type": "code",
   "execution_count": 76,
   "id": "3a6277e1",
   "metadata": {},
   "outputs": [],
   "source": [
    "#Creating the variable X and Y which contains the X features as independent features and Y is the target feature \n",
    "df2 = inp2\n",
    "X = df2.drop('Rating',axis=1)\n",
    "y = df2['Rating']\n",
    "\n",
    "#Dividing the X and y into test and train data\n",
    "X_train, X_test, y_train, y_test = train_test_split(X,y, test_size=0.3, random_state=5)"
   ]
  },
  {
   "cell_type": "markdown",
   "id": "e03ff554",
   "metadata": {},
   "source": [
    "# 11. Model building Use linear regression as the technique Report the R2 on the train set"
   ]
  },
  {
   "cell_type": "code",
   "execution_count": 77,
   "id": "b202ddb9",
   "metadata": {},
   "outputs": [
    {
     "data": {
      "text/plain": [
       "LinearRegression()"
      ]
     },
     "execution_count": 77,
     "metadata": {},
     "output_type": "execute_result"
    }
   ],
   "source": [
    "#Create a linear reggression obj by calling the linear reggressor algorithm\n",
    "lin_reggressor = LinearRegression()\n",
    "lin_reggressor.fit(X_train,y_train)"
   ]
  },
  {
   "cell_type": "code",
   "execution_count": 78,
   "id": "eb3cf2ae",
   "metadata": {},
   "outputs": [
    {
     "name": "stdout",
     "output_type": "stream",
     "text": [
      "The R2 value of the Training Set is : 0.074\n"
     ]
    }
   ],
   "source": [
    "R2_Score_train_data = round(lin_reggressor.score(X_train,y_train),3)\n",
    "print(\"The R2 value of the Training Set is : {}\".format(R2_Score_train_data))"
   ]
  },
  {
   "cell_type": "code",
   "execution_count": 79,
   "id": "535ae208",
   "metadata": {},
   "outputs": [
    {
     "data": {
      "text/plain": [
       "0.06257564620467992"
      ]
     },
     "execution_count": 79,
     "metadata": {},
     "output_type": "execute_result"
    }
   ],
   "source": [
    "# test the output by changing values, like 3750\n",
    "y_pred = lin_reggressor.predict(X_test)\n",
    "R2_Score_test_data =metrics.r2_score(y_test,y_pred)\n",
    "R2_Score_test_data"
   ]
  },
  {
   "cell_type": "markdown",
   "id": "89bdb779",
   "metadata": {},
   "source": [
    "# 12. Make predictions on test set and report R2."
   ]
  },
  {
   "cell_type": "code",
   "execution_count": 80,
   "id": "65c49004",
   "metadata": {},
   "outputs": [
    {
     "name": "stdout",
     "output_type": "stream",
     "text": [
      "The R2 value of the Training Set is : 0.063\n"
     ]
    }
   ],
   "source": [
    "R2_Score_test_data = round(lin_reggressor.score(X_test,y_test),3)\n",
    "print(\"The R2 value of the Training Set is : {}\".format(R2_Score_test_data))"
   ]
  },
  {
   "cell_type": "code",
   "execution_count": null,
   "id": "24cb2bc2",
   "metadata": {},
   "outputs": [],
   "source": []
  }
 ],
 "metadata": {
  "kernelspec": {
   "display_name": "Python 3 (ipykernel)",
   "language": "python",
   "name": "python3"
  },
  "language_info": {
   "codemirror_mode": {
    "name": "ipython",
    "version": 3
   },
   "file_extension": ".py",
   "mimetype": "text/x-python",
   "name": "python",
   "nbconvert_exporter": "python",
   "pygments_lexer": "ipython3",
   "version": "3.9.13"
  }
 },
 "nbformat": 4,
 "nbformat_minor": 5
}
